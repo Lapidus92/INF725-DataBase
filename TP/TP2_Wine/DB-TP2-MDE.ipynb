{
 "cells": [
  {
   "cell_type": "markdown",
   "metadata": {
    "colab_type": "text",
    "id": "5cRXiTdCHpdu"
   },
   "source": [
    "# TP2 - DB Normalization and Querying\n",
    "\n",
    "The objectives of this TP are:\n",
    "1. Apply normalization 1NF -> 2NF -> 3NF\n",
    "2. Perform SQL queries on the normalized database\n",
    "\n",
    "In this TP, we will use a database **`wine.db`** (available in the course's website) containing wine information related to 'production' and 'sales'. \n",
    "\n",
    "> Production <---> Wine <---> Sales\n",
    "\n",
    "\n",
    "---\n",
    "\n",
    "### Working with db files in Jupyter\n",
    "- Python provides an interface for SQLite through the *sqlite3* module\n",
    "- The **`%%sql`** magic builds upon it (and other tools) to enable the usage of SQL commands within a Jupyter Notebook as in common SQL clients.\n",
    "- Before proceeding, make sure that **`wine.db`** is in the same path as this notebook.\n",
    "  - If **`wine.db`** is not in the same path, an empty **`wine.db`** file will be created, resulting in errors in later steps of the TP.\n",
    "- The SQLite module in Python commits transactions automatically, this means that any change in the DB is immediately written to the file, e.g. creating/deleting tables.\n",
    "  -  For this reason, it is recommended to have a backup of **`wine.db`** as it is provided in the course's website.\n",
    "\n",
    "---"
   ]
  },
  {
   "cell_type": "markdown",
   "metadata": {
    "colab_type": "text",
    "id": "PyHMUuOQHpdv"
   },
   "source": [
    "**`wine.db`** contains the following unnormalized tables:\n",
    "\n",
    "<center>**Master1**</center>\n",
    "\n",
    "|*Attribute*|         *Description*          |\n",
    "| -------   |--------------------------------|\n",
    "| NV        | Wine number                    |\n",
    "| CRU       | Vineyard or group of vineyards |\n",
    "| DEGRE     | Alcohol content                |\n",
    "| MILL      | Vintage year                   |\n",
    "| QTE       | Number of bottles harvested    |\n",
    "| NP        | Producer number                |\n",
    "| NOM       | Producer's last name           |\n",
    "| PRENOM    | Producer's first name          |\n",
    "| REGION    | Production region              |\n",
    "\n",
    "From wikipedia:\n",
    "\n",
    "__Cru__: Often used to indicate a specifically named and legally defined vineyard or ensemble of vineyards and the vines \"which grow on [such] a reputed terroir; by extension of good quality.\" The term is also used to refer to the wine produced from such vines.\n",
    "\n",
    "\n",
    "<center>**Master2**</center>\n",
    "\n",
    "|*Attribute*|                         *Description*                  |\n",
    "| -------   |--------------------------------------------------------|\n",
    "| NV        | Wine number                                            |\n",
    "| CRU       | Vineyard or group of vineyards                         |\n",
    "| DEGRE     | Alcohol content                                        |\n",
    "| MILL      | Vintage year                                           |\n",
    "| DATES     | Buying date                                            |\n",
    "| LIEU      | Place where the wine was sold                          |\n",
    "| QTE       | Number of bottles bought                               |\n",
    "| NB        | Client (buveur) number                                 |\n",
    "| NOM       | Client's last name                                     |\n",
    "| PRENOM    | Client's first name                                    |\n",
    "| TYPE      | Type of client by volume of purchases                  |\n",
    "| REGION    | Administrative Region (different to production region) |\n"
   ]
  },
  {
   "cell_type": "code",
   "execution_count": 1,
   "metadata": {
    "colab": {},
    "colab_type": "code",
    "id": "ju8KDNuuHpdw"
   },
   "outputs": [],
   "source": [
    "import sqlite3    # Python interface for SQLite databases"
   ]
  },
  {
   "cell_type": "code",
   "execution_count": 2,
   "metadata": {
    "colab": {},
    "colab_type": "code",
    "id": "1QXLGD94Hpdz"
   },
   "outputs": [],
   "source": [
    "def printSchema(connection):\n",
    "    # Function to print the DB schema\n",
    "    # Source: http://stackoverflow.com/a/35092773/4765776\n",
    "    for (tableName,) in connection.execute(\n",
    "        \"\"\"\n",
    "        select NAME from SQLITE_MASTER where TYPE='table' order by NAME;\n",
    "        \"\"\"\n",
    "    ):\n",
    "        print(\"{}:\".format(tableName))\n",
    "        for (\n",
    "            columnID, columnName, columnType,\n",
    "            columnNotNull, columnDefault, columnPK,\n",
    "        ) in connection.execute(\"pragma table_info('{}');\".format(tableName)):\n",
    "            print(\"  {id}: {name}({type}){null}{default}{pk}\".format(\n",
    "                id=columnID,\n",
    "                name=columnName,\n",
    "                type=columnType,\n",
    "                null=\" not null\" if columnNotNull else \"\",\n",
    "                default=\" [{}]\".format(columnDefault) if columnDefault else \"\",\n",
    "                pk=\" *{}\".format(columnPK) if columnPK else \"\",\n",
    "            ))"
   ]
  },
  {
   "cell_type": "code",
   "execution_count": 3,
   "metadata": {
    "colab": {
     "base_uri": "https://localhost:8080/",
     "height": 425
    },
    "colab_type": "code",
    "executionInfo": {
     "elapsed": 471,
     "status": "ok",
     "timestamp": 1571310558155,
     "user": {
      "displayName": "Matthieu Desse",
      "photoUrl": "https://lh3.googleusercontent.com/a-/AAuE7mCW_qO8excZWWoutJ8E1UkkWX-m82i7ULvlHJnqDg=s64",
      "userId": "05743304492605462258"
     },
     "user_tz": -120
    },
    "id": "SP9gpbChHpd2",
    "outputId": "d41db71e-5064-45e1-f8ae-643b3ecefb02"
   },
   "outputs": [
    {
     "name": "stdout",
     "output_type": "stream",
     "text": [
      "Database schema:\n",
      "MASTER1:\n",
      "  0: NV(NUM)\n",
      "  1: CRU(TEXT)\n",
      "  2: DEGRE(NUM)\n",
      "  3: MILL(NUM)\n",
      "  4: QTE(NUM)\n",
      "  5: NP(NUM)\n",
      "  6: NOM(TEXT)\n",
      "  7: PRENOM(TEXT)\n",
      "  8: REGION(TEXT)\n",
      "MASTER2:\n",
      "  0: NV(NUM)\n",
      "  1: CRU(TEXT)\n",
      "  2: DEGRE(NUM)\n",
      "  3: MILL(NUM)\n",
      "  4: DATES(DATE)\n",
      "  5: LIEU(TEXT)\n",
      "  6: QTE(NUM)\n",
      "  7: NB(NUM)\n",
      "  8: NOM(TEXT)\n",
      "  9: PRENOM(TEXT)\n",
      "  10: TYPE(TEXT)\n",
      "  11: REGION(TEXT)\n",
      "customer:\n",
      "  0: NB(NUM)\n",
      "  1: NOM(TEXT)\n",
      "  2: PRENOM(TEXT)\n",
      "  3: TYPE(TEXT)\n",
      "dummy:\n",
      "  0: DEGRE(NUM)\n",
      "place:\n",
      "  0: LIEU(TEXT)\n",
      "  1: REGION(TEXT)\n",
      "production:\n",
      "  0: NP(NUM)\n",
      "  1: NOM(TEXT)\n",
      "  2: PRENOM(TEXT)\n",
      "  3: REGION(TEXT)\n",
      "quantity:\n",
      "  0: NP(NUM)\n",
      "  1: NV(NUM)\n",
      "  2: QTE(NUM)\n",
      "sales:\n",
      "  0: NB(NUM)\n",
      "  1: DATES(NUM)\n",
      "  2: LIEU(TEXT)\n",
      "  3: QTE(NUM)\n",
      "  4: NV(NUM)\n",
      "wine:\n",
      "  0: NV(NUM)\n",
      "  1: CRU(TEXT)\n",
      "  2: DEGRE(NUM)\n",
      "  3: MILL(NUM)\n"
     ]
    }
   ],
   "source": [
    "conn = sqlite3.connect(\"wine.db\")\n",
    "c = conn.cursor()\n",
    "print(\"Database schema:\")\n",
    "printSchema(conn)           # An usefull way to viualize the content of the database"
   ]
  },
  {
   "cell_type": "markdown",
   "metadata": {
    "colab_type": "text",
    "id": "55QOinqKHpd5"
   },
   "source": [
    "From this point we will use __%%sql__ magic"
   ]
  },
  {
   "cell_type": "code",
   "execution_count": 4,
   "metadata": {
    "colab": {
     "base_uri": "https://localhost:8080/",
     "height": 34
    },
    "colab_type": "code",
    "executionInfo": {
     "elapsed": 704,
     "status": "ok",
     "timestamp": 1571310669764,
     "user": {
      "displayName": "Matthieu Desse",
      "photoUrl": "https://lh3.googleusercontent.com/a-/AAuE7mCW_qO8excZWWoutJ8E1UkkWX-m82i7ULvlHJnqDg=s64",
      "userId": "05743304492605462258"
     },
     "user_tz": -120
    },
    "id": "IbQKkPt9Hpd6",
    "outputId": "72250cb8-d44e-43be-dfd2-901642ce3a38"
   },
   "outputs": [
    {
     "data": {
      "text/plain": [
       "'Connected: @wine.db'"
      ]
     },
     "execution_count": 4,
     "metadata": {},
     "output_type": "execute_result"
    }
   ],
   "source": [
    "%reload_ext sql\n",
    "%sql sqlite:///wine.db"
   ]
  },
  {
   "cell_type": "markdown",
   "metadata": {
    "colab_type": "text",
    "id": "51LeQSusHpd8"
   },
   "source": [
    "# PART I: Database normalization"
   ]
  },
  {
   "cell_type": "markdown",
   "metadata": {
    "colab_type": "text",
    "id": "7D50y64_Hpd8"
   },
   "source": [
    "The first task on this TP is the normalization of the wine data. In its current state both tables **Master1** and **Master2** are in the First Normal Form (1NF).\n",
    "\n",
    "By inspecting the content of these tables we can see that multiple tuples have NULL values."
   ]
  },
  {
   "cell_type": "code",
   "execution_count": 5,
   "metadata": {
    "colab": {
     "base_uri": "https://localhost:8080/",
     "height": 119
    },
    "colab_type": "code",
    "executionInfo": {
     "elapsed": 736,
     "status": "ok",
     "timestamp": 1571310672121,
     "user": {
      "displayName": "Matthieu Desse",
      "photoUrl": "https://lh3.googleusercontent.com/a-/AAuE7mCW_qO8excZWWoutJ8E1UkkWX-m82i7ULvlHJnqDg=s64",
      "userId": "05743304492605462258"
     },
     "user_tz": -120
    },
    "id": "pmZ5FD5UHpd9",
    "outputId": "47d5f71f-a180-4579-8dc7-2cab1df6f7a3"
   },
   "outputs": [
    {
     "name": "stdout",
     "output_type": "stream",
     "text": [
      " * sqlite:///wine.db\n",
      "Done.\n"
     ]
    },
    {
     "data": {
      "text/html": [
       "<table>\n",
       "    <tr>\n",
       "        <th>NV</th>\n",
       "        <th>CRU</th>\n",
       "        <th>DEGRE</th>\n",
       "        <th>MILL</th>\n",
       "        <th>QTE</th>\n",
       "        <th>NP</th>\n",
       "        <th>NOM</th>\n",
       "        <th>PRENOM</th>\n",
       "        <th>REGION</th>\n",
       "    </tr>\n",
       "    <tr>\n",
       "        <td>None</td>\n",
       "        <td>None</td>\n",
       "        <td>None</td>\n",
       "        <td>None</td>\n",
       "        <td>None</td>\n",
       "        <td>3</td>\n",
       "        <td>Six</td>\n",
       "        <td>Paul</td>\n",
       "        <td>Alsace</td>\n",
       "    </tr>\n",
       "    <tr>\n",
       "        <td>None</td>\n",
       "        <td>None</td>\n",
       "        <td>None</td>\n",
       "        <td>None</td>\n",
       "        <td>None</td>\n",
       "        <td>6</td>\n",
       "        <td>Marmagne</td>\n",
       "        <td>Bernard</td>\n",
       "        <td>Bourgogne</td>\n",
       "    </tr>\n",
       "    <tr>\n",
       "        <td>None</td>\n",
       "        <td>None</td>\n",
       "        <td>None</td>\n",
       "        <td>None</td>\n",
       "        <td>None</td>\n",
       "        <td>8</td>\n",
       "        <td>Lioger d&#x27;Harduy</td>\n",
       "        <td>Gabriel</td>\n",
       "        <td>Bourgogne</td>\n",
       "    </tr>\n",
       "    <tr>\n",
       "        <td>None</td>\n",
       "        <td>None</td>\n",
       "        <td>None</td>\n",
       "        <td>None</td>\n",
       "        <td>None</td>\n",
       "        <td>16</td>\n",
       "        <td>Barbin</td>\n",
       "        <td>Bernard</td>\n",
       "        <td>Bourgogne</td>\n",
       "    </tr>\n",
       "    <tr>\n",
       "        <td>None</td>\n",
       "        <td>None</td>\n",
       "        <td>None</td>\n",
       "        <td>None</td>\n",
       "        <td>None</td>\n",
       "        <td>17</td>\n",
       "        <td>Faiveley</td>\n",
       "        <td>Guy</td>\n",
       "        <td>Bourgogne</td>\n",
       "    </tr>\n",
       "    <tr>\n",
       "        <td>None</td>\n",
       "        <td>None</td>\n",
       "        <td>None</td>\n",
       "        <td>None</td>\n",
       "        <td>None</td>\n",
       "        <td>18</td>\n",
       "        <td>Tramier</td>\n",
       "        <td>Jean</td>\n",
       "        <td>Bourgogne</td>\n",
       "    </tr>\n",
       "    <tr>\n",
       "        <td>None</td>\n",
       "        <td>None</td>\n",
       "        <td>None</td>\n",
       "        <td>None</td>\n",
       "        <td>None</td>\n",
       "        <td>19</td>\n",
       "        <td>Dupaquier</td>\n",
       "        <td>Roger</td>\n",
       "        <td>Bourgogne</td>\n",
       "    </tr>\n",
       "    <tr>\n",
       "        <td>None</td>\n",
       "        <td>None</td>\n",
       "        <td>None</td>\n",
       "        <td>None</td>\n",
       "        <td>None</td>\n",
       "        <td>20</td>\n",
       "        <td>Lamy</td>\n",
       "        <td>Jean</td>\n",
       "        <td>Bourgogne</td>\n",
       "    </tr>\n",
       "    <tr>\n",
       "        <td>None</td>\n",
       "        <td>None</td>\n",
       "        <td>None</td>\n",
       "        <td>None</td>\n",
       "        <td>None</td>\n",
       "        <td>21</td>\n",
       "        <td>Cornu</td>\n",
       "        <td>Edmond</td>\n",
       "        <td>Bourgogne</td>\n",
       "    </tr>\n",
       "    <tr>\n",
       "        <td>None</td>\n",
       "        <td>None</td>\n",
       "        <td>None</td>\n",
       "        <td>None</td>\n",
       "        <td>None</td>\n",
       "        <td>26</td>\n",
       "        <td>Violot</td>\n",
       "        <td>Gilbert</td>\n",
       "        <td>Bourgogne</td>\n",
       "    </tr>\n",
       "</table>"
      ],
      "text/plain": [
       "[(None, None, None, None, None, 3, 'Six', 'Paul', 'Alsace'),\n",
       " (None, None, None, None, None, 6, 'Marmagne', 'Bernard', 'Bourgogne'),\n",
       " (None, None, None, None, None, 8, \"Lioger d'Harduy\", 'Gabriel', 'Bourgogne'),\n",
       " (None, None, None, None, None, 16, 'Barbin', 'Bernard', 'Bourgogne'),\n",
       " (None, None, None, None, None, 17, 'Faiveley', 'Guy', 'Bourgogne'),\n",
       " (None, None, None, None, None, 18, 'Tramier', 'Jean', 'Bourgogne'),\n",
       " (None, None, None, None, None, 19, 'Dupaquier', 'Roger', 'Bourgogne'),\n",
       " (None, None, None, None, None, 20, 'Lamy', 'Jean', 'Bourgogne'),\n",
       " (None, None, None, None, None, 21, 'Cornu', 'Edmond', 'Bourgogne'),\n",
       " (None, None, None, None, None, 26, 'Violot', 'Gilbert', 'Bourgogne')]"
      ]
     },
     "execution_count": 5,
     "metadata": {},
     "output_type": "execute_result"
    }
   ],
   "source": [
    "%%sql SELECT *\n",
    "FROM MASTER1\n",
    "LIMIT 10;"
   ]
  },
  {
   "cell_type": "markdown",
   "metadata": {
    "colab_type": "text",
    "id": "KxZZ1U7FHpd_"
   },
   "source": [
    "* Notice that Jupyter *displays* 'None' instead of 'NULL'. \n",
    "  - This is only to comply with python notation.\n",
    "* To account for NULL values, your SQL queries must test explicitly for 'NULL'.\n",
    "\n",
    "Another problem in **Master1** and **Master2** is data redundancy, for example:"
   ]
  },
  {
   "cell_type": "code",
   "execution_count": 79,
   "metadata": {
    "colab": {},
    "colab_type": "code",
    "id": "0kNza3JOaTw4"
   },
   "outputs": [],
   "source": [
    "#from google.colab import drive\n",
    "#drive.mount('/content/drive')"
   ]
  },
  {
   "cell_type": "code",
   "execution_count": 7,
   "metadata": {
    "colab": {
     "base_uri": "https://localhost:8080/",
     "height": 119
    },
    "colab_type": "code",
    "executionInfo": {
     "elapsed": 926,
     "status": "ok",
     "timestamp": 1571310569816,
     "user": {
      "displayName": "Matthieu Desse",
      "photoUrl": "https://lh3.googleusercontent.com/a-/AAuE7mCW_qO8excZWWoutJ8E1UkkWX-m82i7ULvlHJnqDg=s64",
      "userId": "05743304492605462258"
     },
     "user_tz": -120
    },
    "id": "uW84uxQYHpeA",
    "outputId": "74fa77e8-a5ba-47ec-d63d-25f9752c1d3a"
   },
   "outputs": [
    {
     "name": "stdout",
     "output_type": "stream",
     "text": [
      " * sqlite:///wine.db\n",
      "Done.\n"
     ]
    },
    {
     "data": {
      "text/html": [
       "<table>\n",
       "    <tr>\n",
       "        <th>NV</th>\n",
       "        <th>CRU</th>\n",
       "        <th>DEGRE</th>\n",
       "        <th>MILL</th>\n",
       "        <th>QTE</th>\n",
       "        <th>NP</th>\n",
       "        <th>NOM</th>\n",
       "        <th>PRENOM</th>\n",
       "        <th>REGION</th>\n",
       "    </tr>\n",
       "    <tr>\n",
       "        <td>45</td>\n",
       "        <td>Chiroubles</td>\n",
       "        <td>None</td>\n",
       "        <td>1983</td>\n",
       "        <td>90</td>\n",
       "        <td>2</td>\n",
       "        <td>Boxler</td>\n",
       "        <td>Albert</td>\n",
       "        <td>Alsace</td>\n",
       "    </tr>\n",
       "    <tr>\n",
       "        <td>45</td>\n",
       "        <td>Chiroubles</td>\n",
       "        <td>None</td>\n",
       "        <td>1983</td>\n",
       "        <td>912</td>\n",
       "        <td>67</td>\n",
       "        <td>Descombes</td>\n",
       "        <td>Jean Ernest</td>\n",
       "        <td>Beaujolais</td>\n",
       "    </tr>\n",
       "    <tr>\n",
       "        <td>45</td>\n",
       "        <td>Chiroubles</td>\n",
       "        <td>None</td>\n",
       "        <td>1983</td>\n",
       "        <td>98</td>\n",
       "        <td>71</td>\n",
       "        <td>Chalandard</td>\n",
       "        <td>Danile</td>\n",
       "        <td>Jura</td>\n",
       "    </tr>\n",
       "    <tr>\n",
       "        <td>45</td>\n",
       "        <td>Chiroubles</td>\n",
       "        <td>None</td>\n",
       "        <td>1983</td>\n",
       "        <td>540</td>\n",
       "        <td>78</td>\n",
       "        <td>Michlel</td>\n",
       "        <td>Pierre Emile</td>\n",
       "        <td>Jura</td>\n",
       "    </tr>\n",
       "    <tr>\n",
       "        <td>45</td>\n",
       "        <td>Chiroubles</td>\n",
       "        <td>None</td>\n",
       "        <td>1983</td>\n",
       "        <td>450</td>\n",
       "        <td>86</td>\n",
       "        <td>Dumazet</td>\n",
       "        <td>Marc</td>\n",
       "        <td>Rhone</td>\n",
       "    </tr>\n",
       "</table>"
      ],
      "text/plain": [
       "[(45, 'Chiroubles', None, 1983, 90, 2, 'Boxler', 'Albert', 'Alsace'),\n",
       " (45, 'Chiroubles', None, 1983, 912, 67, 'Descombes', 'Jean Ernest', 'Beaujolais'),\n",
       " (45, 'Chiroubles', None, 1983, 98, 71, 'Chalandard', 'Danile', 'Jura'),\n",
       " (45, 'Chiroubles', None, 1983, 540, 78, 'Michlel', 'Pierre Emile', 'Jura'),\n",
       " (45, 'Chiroubles', None, 1983, 450, 86, 'Dumazet', 'Marc', 'Rhone')]"
      ]
     },
     "execution_count": 7,
     "metadata": {},
     "output_type": "execute_result"
    }
   ],
   "source": [
    "%%sql SELECT *\n",
    "FROM Master1\n",
    "WHERE NV = 45;"
   ]
  },
  {
   "cell_type": "markdown",
   "metadata": {
    "colab_type": "text",
    "id": "ad5T2GErHpeC"
   },
   "source": [
    "---\n",
    "\n",
    "Additional resource for Normalization:\n",
    "\n",
    "https://www.youtube.com/watch?v=UrYLYV7WSHM\n",
    "\n",
    "---"
   ]
  },
  {
   "cell_type": "markdown",
   "metadata": {
    "colab_type": "text",
    "id": "dZnUiujPHpeC"
   },
   "source": [
    "#### Exercise 1.1\n",
    "\n",
    "Convert table **Master1** to the Second Normal Form (2NF) or Third Normal Form (3NF) as applicable.\n",
    "* Explain your answer\n",
    "* List main functional dependencies (not all of them)\n",
    "* Describe the schema of new tables and how they relate\n",
    "  * You can write Tables as above or you can insert images in the notebook.\n",
    "  \n",
    "Remember that **`wine.db`** contains information related to wine 'production' and 'sells'.\n",
    "\n",
    "> Production <---> Wine <---> Sales\n",
    "\n",
    "A good start point is to look for the 'Wine' attributes.\n",
    "\n",
    "**Hint:** Look for redundant information between the master tables."
   ]
  },
  {
   "cell_type": "markdown",
   "metadata": {
    "colab_type": "raw",
    "id": "-PIrSCbrHpeD"
   },
   "source": [
    "[Write your answer here]"
   ]
  },
  {
   "cell_type": "markdown",
   "metadata": {
    "colab": {
     "base_uri": "https://localhost:8080/",
     "height": 172
    },
    "colab_type": "code",
    "executionInfo": {
     "elapsed": 774,
     "status": "ok",
     "timestamp": 1571144735128,
     "user": {
      "displayName": "Matthieu Desse",
      "photoUrl": "https://lh3.googleusercontent.com/a-/AAuE7mCW_qO8excZWWoutJ8E1UkkWX-m82i7ULvlHJnqDg=s64",
      "userId": "05743304492605462258"
     },
     "user_tz": -120
    },
    "id": "nPSSIQ-Vgu49",
    "outputId": "9929caca-e320-42bb-d1b4-ed325f50ecb0"
   },
   "source": [
    "## Pre-processing\n",
    "Before handling wine's database, we have to :\n",
    "- convert table master 1 and 2 to the 2nd and 3rd normal form (as possible)\n",
    "- explain functionnal dependencies <br/>\n",
    "<p> <b>Why this preprocessing ?</b> </p>\n",
    "- avoid repetitive datas \n",
    "- avoid writing and reading mistakes\n",
    "- optimise system (queries...)"
   ]
  },
  {
   "cell_type": "markdown",
   "metadata": {},
   "source": [
    "The schedule below shows all the dependencies between the tables created.\n",
    "We distinguish two kind of tables depending their origin : master 1 or master 2.\n",
    "<p><b>Note</b>: i've introduce the notion of \"composed key\" to clarly identify primary key with unique ID.</p>"
   ]
  },
  {
   "cell_type": "markdown",
   "metadata": {},
   "source": [
    "![](Schedule_wine_database.jpg)"
   ]
  },
  {
   "cell_type": "markdown",
   "metadata": {},
   "source": [
    "![](Schedule_wine_database.png)"
   ]
  },
  {
   "cell_type": "code",
   "execution_count": 115,
   "metadata": {
    "colab": {
     "base_uri": "https://localhost:8080/",
     "height": 206
    },
    "colab_type": "code",
    "executionInfo": {
     "elapsed": 807,
     "status": "ok",
     "timestamp": 1571147968480,
     "user": {
      "displayName": "Matthieu Desse",
      "photoUrl": "https://lh3.googleusercontent.com/a-/AAuE7mCW_qO8excZWWoutJ8E1UkkWX-m82i7ULvlHJnqDg=s64",
      "userId": "05743304492605462258"
     },
     "user_tz": -120
    },
    "id": "LFAmXy6PSOoT",
    "outputId": "7263178a-32d1-40fc-c8c8-a64b60ff4572"
   },
   "outputs": [
    {
     "name": "stdout",
     "output_type": "stream",
     "text": [
      " * sqlite:///wine.db\n",
      "Done.\n",
      "Done.\n",
      "Done.\n"
     ]
    },
    {
     "data": {
      "text/html": [
       "<table>\n",
       "    <tr>\n",
       "        <th>NV</th>\n",
       "        <th>CRU</th>\n",
       "        <th>DEGRE</th>\n",
       "        <th>MILL</th>\n",
       "    </tr>\n",
       "    <tr>\n",
       "        <td>1</td>\n",
       "        <td>Mercurey</td>\n",
       "        <td>11.5</td>\n",
       "        <td>1980</td>\n",
       "    </tr>\n",
       "    <tr>\n",
       "        <td>2</td>\n",
       "        <td>Julienas</td>\n",
       "        <td>11.3</td>\n",
       "        <td>1974</td>\n",
       "    </tr>\n",
       "    <tr>\n",
       "        <td>3</td>\n",
       "        <td>Savigny les Beaunes</td>\n",
       "        <td>12.1</td>\n",
       "        <td>1978</td>\n",
       "    </tr>\n",
       "    <tr>\n",
       "        <td>4</td>\n",
       "        <td>Mercurey</td>\n",
       "        <td>10.9</td>\n",
       "        <td>1980</td>\n",
       "    </tr>\n",
       "    <tr>\n",
       "        <td>5</td>\n",
       "        <td>Pommard</td>\n",
       "        <td>11.7</td>\n",
       "        <td>1976</td>\n",
       "    </tr>\n",
       "</table>"
      ],
      "text/plain": [
       "[(1, 'Mercurey', 11.5, 1980),\n",
       " (2, 'Julienas', 11.3, 1974),\n",
       " (3, 'Savigny les Beaunes', 12.1, 1978),\n",
       " (4, 'Mercurey', 10.9, 1980),\n",
       " (5, 'Pommard', 11.7, 1976)]"
      ]
     },
     "execution_count": 115,
     "metadata": {},
     "output_type": "execute_result"
    }
   ],
   "source": [
    "%%sql\n",
    "DROP TABLE IF EXISTS wine;\n",
    "CREATE TABLE wine AS\n",
    "SELECT DISTINCT NV, CRU, DEGRE, MILL \n",
    "FROM Master1\n",
    "WHERE NV IS NOT NULL;\n",
    "\n",
    "SELECT * \n",
    "FROM wine\n",
    "ORDER BY NV ASC\n",
    "LIMIT 5;"
   ]
  },
  {
   "cell_type": "code",
   "execution_count": 116,
   "metadata": {
    "colab": {
     "base_uri": "https://localhost:8080/",
     "height": 84
    },
    "colab_type": "code",
    "executionInfo": {
     "elapsed": 623,
     "status": "ok",
     "timestamp": 1571147983257,
     "user": {
      "displayName": "Matthieu Desse",
      "photoUrl": "https://lh3.googleusercontent.com/a-/AAuE7mCW_qO8excZWWoutJ8E1UkkWX-m82i7ULvlHJnqDg=s64",
      "userId": "05743304492605462258"
     },
     "user_tz": -120
    },
    "id": "9XaVActLbY3F",
    "outputId": "0eb010b1-77f1-4de3-975a-e39767f98f25"
   },
   "outputs": [
    {
     "name": "stdout",
     "output_type": "stream",
     "text": [
      " * sqlite:///wine.db\n",
      "Done.\n",
      "Done.\n",
      "Done.\n"
     ]
    },
    {
     "data": {
      "text/html": [
       "<table>\n",
       "    <tr>\n",
       "        <th>NP</th>\n",
       "        <th>NOM</th>\n",
       "        <th>PRENOM</th>\n",
       "        <th>REGION</th>\n",
       "    </tr>\n",
       "    <tr>\n",
       "        <td>1</td>\n",
       "        <td>Bohn</td>\n",
       "        <td>Rene</td>\n",
       "        <td>Alsace</td>\n",
       "    </tr>\n",
       "    <tr>\n",
       "        <td>2</td>\n",
       "        <td>Boxler</td>\n",
       "        <td>Albert</td>\n",
       "        <td>Alsace</td>\n",
       "    </tr>\n",
       "    <tr>\n",
       "        <td>3</td>\n",
       "        <td>Six</td>\n",
       "        <td>Paul</td>\n",
       "        <td>Alsace</td>\n",
       "    </tr>\n",
       "    <tr>\n",
       "        <td>4</td>\n",
       "        <td>Stentz</td>\n",
       "        <td>Fernand</td>\n",
       "        <td>Alsace</td>\n",
       "    </tr>\n",
       "    <tr>\n",
       "        <td>5</td>\n",
       "        <td>Joudeat</td>\n",
       "        <td>Lucien</td>\n",
       "        <td>Bourgogne</td>\n",
       "    </tr>\n",
       "</table>"
      ],
      "text/plain": [
       "[(1, 'Bohn', 'Rene', 'Alsace'),\n",
       " (2, 'Boxler', 'Albert', 'Alsace'),\n",
       " (3, 'Six', 'Paul', 'Alsace'),\n",
       " (4, 'Stentz', 'Fernand', 'Alsace'),\n",
       " (5, 'Joudeat', 'Lucien', 'Bourgogne')]"
      ]
     },
     "execution_count": 116,
     "metadata": {},
     "output_type": "execute_result"
    }
   ],
   "source": [
    "%%sql \n",
    "DROP TABLE IF EXISTS production;\n",
    "CREATE TABLE production AS\n",
    "SELECT DISTINCT NP, NOM, PRENOM, REGION \n",
    "FROM Master1\n",
    "WHERE NP IS NOT NULL;\n",
    "\n",
    "SELECT * \n",
    "FROM production\n",
    "ORDER BY NP ASC\n",
    "LIMIT 5;"
   ]
  },
  {
   "cell_type": "code",
   "execution_count": 117,
   "metadata": {
    "colab": {
     "base_uri": "https://localhost:8080/",
     "height": 206
    },
    "colab_type": "code",
    "executionInfo": {
     "elapsed": 514,
     "status": "ok",
     "timestamp": 1571148003251,
     "user": {
      "displayName": "Matthieu Desse",
      "photoUrl": "https://lh3.googleusercontent.com/a-/AAuE7mCW_qO8excZWWoutJ8E1UkkWX-m82i7ULvlHJnqDg=s64",
      "userId": "05743304492605462258"
     },
     "user_tz": -120
    },
    "id": "QjJdK0vBgBL1",
    "outputId": "b2f7e575-0d7f-4612-8006-9fa9ee8512a8"
   },
   "outputs": [
    {
     "name": "stdout",
     "output_type": "stream",
     "text": [
      " * sqlite:///wine.db\n",
      "Done.\n",
      "Done.\n",
      "Done.\n"
     ]
    },
    {
     "data": {
      "text/html": [
       "<table>\n",
       "    <tr>\n",
       "        <th>NP</th>\n",
       "        <th>NV</th>\n",
       "        <th>QTE</th>\n",
       "    </tr>\n",
       "    <tr>\n",
       "        <td>107</td>\n",
       "        <td>107</td>\n",
       "        <td>7000</td>\n",
       "    </tr>\n",
       "    <tr>\n",
       "        <td>7</td>\n",
       "        <td>19</td>\n",
       "        <td>986</td>\n",
       "    </tr>\n",
       "    <tr>\n",
       "        <td>24</td>\n",
       "        <td>98</td>\n",
       "        <td>986</td>\n",
       "    </tr>\n",
       "    <tr>\n",
       "        <td>85</td>\n",
       "        <td>43</td>\n",
       "        <td>983</td>\n",
       "    </tr>\n",
       "    <tr>\n",
       "        <td>85</td>\n",
       "        <td>64</td>\n",
       "        <td>980</td>\n",
       "    </tr>\n",
       "</table>"
      ],
      "text/plain": [
       "[(107, 107, 7000), (7, 19, 986), (24, 98, 986), (85, 43, 983), (85, 64, 980)]"
      ]
     },
     "execution_count": 117,
     "metadata": {},
     "output_type": "execute_result"
    }
   ],
   "source": [
    "%%sql \n",
    "DROP TABLE IF EXISTS quantity;\n",
    "CREATE TABLE quantity AS\n",
    "SELECT DISTINCT NP, NV, QTE \n",
    "FROM Master1\n",
    "WHERE NP IS NOT NULL AND NV IS NOT NULL;\n",
    "\n",
    "SELECT * \n",
    "FROM quantity\n",
    "ORDER BY QTE DESC\n",
    "LIMIT 5;"
   ]
  },
  {
   "cell_type": "markdown",
   "metadata": {
    "colab_type": "text",
    "id": "uHQIjLrsHpeD"
   },
   "source": [
    "#### Exercise 1.2\n",
    "\n",
    "Convert table **Master2** to the Second Normal Form (2NF) or Third Normal Form (3NF) as applicable.\n",
    "* Explain your answer\n",
    "* List main functional dependencies (not all of them)\n",
    "* Describe the schema of new tables and how they relate\n",
    "  * You can write Tables as above or you can insert images in the notebook.\n",
    "\n",
    "**Note:** For this part, consider that a wine can be bought in multiple locations and multiple times per day."
   ]
  },
  {
   "cell_type": "markdown",
   "metadata": {
    "colab_type": "raw",
    "id": "mbRgyaHXHpeE"
   },
   "source": [
    "[Write your answer here]"
   ]
  },
  {
   "cell_type": "code",
   "execution_count": 118,
   "metadata": {
    "colab": {
     "base_uri": "https://localhost:8080/",
     "height": 172
    },
    "colab_type": "code",
    "executionInfo": {
     "elapsed": 1784,
     "status": "ok",
     "timestamp": 1571144593076,
     "user": {
      "displayName": "Matthieu Desse",
      "photoUrl": "https://lh3.googleusercontent.com/a-/AAuE7mCW_qO8excZWWoutJ8E1UkkWX-m82i7ULvlHJnqDg=s64",
      "userId": "05743304492605462258"
     },
     "user_tz": -120
    },
    "id": "ex_I2FX1g8C9",
    "outputId": "6307df06-a20f-4c85-dbf1-e6cd0a8ac8aa"
   },
   "outputs": [
    {
     "name": "stdout",
     "output_type": "stream",
     "text": [
      " * sqlite:///wine.db\n",
      "Done.\n"
     ]
    },
    {
     "data": {
      "text/html": [
       "<table>\n",
       "    <tr>\n",
       "        <th>NV</th>\n",
       "        <th>CRU</th>\n",
       "        <th>DEGRE</th>\n",
       "        <th>MILL</th>\n",
       "        <th>DATES</th>\n",
       "        <th>LIEU</th>\n",
       "        <th>QTE</th>\n",
       "        <th>NB</th>\n",
       "        <th>NOM</th>\n",
       "        <th>PRENOM</th>\n",
       "        <th>TYPE</th>\n",
       "        <th>REGION</th>\n",
       "    </tr>\n",
       "    <tr>\n",
       "        <td>None</td>\n",
       "        <td>None</td>\n",
       "        <td>None</td>\n",
       "        <td>None</td>\n",
       "        <td>None</td>\n",
       "        <td>None</td>\n",
       "        <td>None</td>\n",
       "        <td>11</td>\n",
       "        <td>Breton</td>\n",
       "        <td>Andre</td>\n",
       "        <td>petit</td>\n",
       "        <td>None</td>\n",
       "    </tr>\n",
       "    <tr>\n",
       "        <td>None</td>\n",
       "        <td>None</td>\n",
       "        <td>None</td>\n",
       "        <td>None</td>\n",
       "        <td>None</td>\n",
       "        <td>None</td>\n",
       "        <td>None</td>\n",
       "        <td>13</td>\n",
       "        <td>Barthes</td>\n",
       "        <td>Roland</td>\n",
       "        <td>moyen</td>\n",
       "        <td>None</td>\n",
       "    </tr>\n",
       "    <tr>\n",
       "        <td>None</td>\n",
       "        <td>None</td>\n",
       "        <td>None</td>\n",
       "        <td>None</td>\n",
       "        <td>None</td>\n",
       "        <td>None</td>\n",
       "        <td>None</td>\n",
       "        <td>16</td>\n",
       "        <td>Balzac</td>\n",
       "        <td>Honore de</td>\n",
       "        <td>moyen</td>\n",
       "        <td>None</td>\n",
       "    </tr>\n",
       "    <tr>\n",
       "        <td>None</td>\n",
       "        <td>None</td>\n",
       "        <td>None</td>\n",
       "        <td>None</td>\n",
       "        <td>None</td>\n",
       "        <td>None</td>\n",
       "        <td>None</td>\n",
       "        <td>18</td>\n",
       "        <td>Celine</td>\n",
       "        <td>Louis Ferdinand</td>\n",
       "        <td>gros</td>\n",
       "        <td>None</td>\n",
       "    </tr>\n",
       "    <tr>\n",
       "        <td>None</td>\n",
       "        <td>None</td>\n",
       "        <td>None</td>\n",
       "        <td>None</td>\n",
       "        <td>None</td>\n",
       "        <td>None</td>\n",
       "        <td>None</td>\n",
       "        <td>20</td>\n",
       "        <td>Chateaubriand</td>\n",
       "        <td>Francois-Rene de</td>\n",
       "        <td>moyen</td>\n",
       "        <td>None</td>\n",
       "    </tr>\n",
       "</table>"
      ],
      "text/plain": [
       "[(None, None, None, None, None, None, None, 11, 'Breton', 'Andre', 'petit', None),\n",
       " (None, None, None, None, None, None, None, 13, 'Barthes', 'Roland', 'moyen', None),\n",
       " (None, None, None, None, None, None, None, 16, 'Balzac', 'Honore de', 'moyen', None),\n",
       " (None, None, None, None, None, None, None, 18, 'Celine', 'Louis Ferdinand', 'gros', None),\n",
       " (None, None, None, None, None, None, None, 20, 'Chateaubriand', 'Francois-Rene de', 'moyen', None)]"
      ]
     },
     "execution_count": 118,
     "metadata": {},
     "output_type": "execute_result"
    }
   ],
   "source": [
    "\n",
    "%%sql\n",
    "SELECT *\n",
    "FROM master2\n",
    "LIMIT 5;"
   ]
  },
  {
   "cell_type": "code",
   "execution_count": 14,
   "metadata": {
    "colab": {
     "base_uri": "https://localhost:8080/",
     "height": 206
    },
    "colab_type": "code",
    "executionInfo": {
     "elapsed": 2672,
     "status": "ok",
     "timestamp": 1571148017857,
     "user": {
      "displayName": "Matthieu Desse",
      "photoUrl": "https://lh3.googleusercontent.com/a-/AAuE7mCW_qO8excZWWoutJ8E1UkkWX-m82i7ULvlHJnqDg=s64",
      "userId": "05743304492605462258"
     },
     "user_tz": -120
    },
    "id": "pSF2TVDghLbl",
    "outputId": "351422e9-663f-4fe9-f155-1626989be42e"
   },
   "outputs": [
    {
     "name": "stdout",
     "output_type": "stream",
     "text": [
      " * sqlite:///wine.db\n",
      "Done.\n",
      "Done.\n",
      "Done.\n"
     ]
    },
    {
     "data": {
      "text/html": [
       "<table>\n",
       "    <tr>\n",
       "        <th>NB</th>\n",
       "        <th>NOM</th>\n",
       "        <th>PRENOM</th>\n",
       "        <th>TYPE</th>\n",
       "    </tr>\n",
       "    <tr>\n",
       "        <td>11</td>\n",
       "        <td>Breton</td>\n",
       "        <td>Andre</td>\n",
       "        <td>petit</td>\n",
       "    </tr>\n",
       "    <tr>\n",
       "        <td>13</td>\n",
       "        <td>Barthes</td>\n",
       "        <td>Roland</td>\n",
       "        <td>moyen</td>\n",
       "    </tr>\n",
       "    <tr>\n",
       "        <td>16</td>\n",
       "        <td>Balzac</td>\n",
       "        <td>Honore de</td>\n",
       "        <td>moyen</td>\n",
       "    </tr>\n",
       "    <tr>\n",
       "        <td>18</td>\n",
       "        <td>Celine</td>\n",
       "        <td>Louis Ferdinand</td>\n",
       "        <td>gros</td>\n",
       "    </tr>\n",
       "    <tr>\n",
       "        <td>20</td>\n",
       "        <td>Chateaubriand</td>\n",
       "        <td>Francois-Rene de</td>\n",
       "        <td>moyen</td>\n",
       "    </tr>\n",
       "</table>"
      ],
      "text/plain": [
       "[(11, 'Breton', 'Andre', 'petit'),\n",
       " (13, 'Barthes', 'Roland', 'moyen'),\n",
       " (16, 'Balzac', 'Honore de', 'moyen'),\n",
       " (18, 'Celine', 'Louis Ferdinand', 'gros'),\n",
       " (20, 'Chateaubriand', 'Francois-Rene de', 'moyen')]"
      ]
     },
     "execution_count": 14,
     "metadata": {},
     "output_type": "execute_result"
    }
   ],
   "source": [
    "%%sql\n",
    "DROP TABLE IF EXISTS customer;\n",
    "CREATE TABLE customer AS\n",
    "SELECT DISTINCT NB, NOM, PRENOM, TYPE \n",
    "FROM Master2\n",
    "WHERE NB IS NOT NULL;\n",
    "\n",
    "SELECT * \n",
    "FROM customer\n",
    "LIMIT 5;"
   ]
  },
  {
   "cell_type": "code",
   "execution_count": 15,
   "metadata": {
    "colab": {
     "base_uri": "https://localhost:8080/",
     "height": 206
    },
    "colab_type": "code",
    "executionInfo": {
     "elapsed": 487,
     "status": "ok",
     "timestamp": 1571148029853,
     "user": {
      "displayName": "Matthieu Desse",
      "photoUrl": "https://lh3.googleusercontent.com/a-/AAuE7mCW_qO8excZWWoutJ8E1UkkWX-m82i7ULvlHJnqDg=s64",
      "userId": "05743304492605462258"
     },
     "user_tz": -120
    },
    "id": "hufLNeqHh2h8",
    "outputId": "83e46718-f603-4cde-fd3f-834f2418b852"
   },
   "outputs": [
    {
     "name": "stdout",
     "output_type": "stream",
     "text": [
      " * sqlite:///wine.db\n",
      "Done.\n",
      "Done.\n",
      "Done.\n"
     ]
    },
    {
     "data": {
      "text/html": [
       "<table>\n",
       "    <tr>\n",
       "        <th>LIEU</th>\n",
       "        <th>REGION</th>\n",
       "    </tr>\n",
       "    <tr>\n",
       "        <td>BORDEAUX</td>\n",
       "        <td> NOUVELLE-AQUITAINE</td>\n",
       "    </tr>\n",
       "    <tr>\n",
       "        <td>PARIS</td>\n",
       "        <td> ÎLE-DE-FRANCE</td>\n",
       "    </tr>\n",
       "    <tr>\n",
       "        <td>RENNES</td>\n",
       "        <td> BRETAGNE</td>\n",
       "    </tr>\n",
       "    <tr>\n",
       "        <td>LYON</td>\n",
       "        <td>&nbsp;&nbsp;AUVERGNE-RHÔNE-ALPES</td>\n",
       "    </tr>\n",
       "    <tr>\n",
       "        <td>NICE</td>\n",
       "        <td> PROVENCE-ALPES-CÔTE D&#x27;AZUR</td>\n",
       "    </tr>\n",
       "</table>"
      ],
      "text/plain": [
       "[('BORDEAUX', ' NOUVELLE-AQUITAINE'),\n",
       " ('PARIS', ' ÎLE-DE-FRANCE'),\n",
       " ('RENNES', ' BRETAGNE'),\n",
       " ('LYON', '  AUVERGNE-RHÔNE-ALPES'),\n",
       " ('NICE', \" PROVENCE-ALPES-CÔTE D'AZUR\")]"
      ]
     },
     "execution_count": 15,
     "metadata": {},
     "output_type": "execute_result"
    }
   ],
   "source": [
    "%%sql \n",
    "DROP TABLE IF EXISTS place;\n",
    "CREATE TABLE place AS\n",
    "SELECT DISTINCT LIEU, REGION \n",
    "FROM Master2\n",
    "WHERE LIEU IS NOT NULL AND REGION IS NOT NULL;\n",
    "SELECT *\n",
    "FROM place\n",
    "LIMIT 5;"
   ]
  },
  {
   "cell_type": "code",
   "execution_count": 16,
   "metadata": {
    "colab": {
     "base_uri": "https://localhost:8080/",
     "height": 206
    },
    "colab_type": "code",
    "executionInfo": {
     "elapsed": 476,
     "status": "ok",
     "timestamp": 1571148040667,
     "user": {
      "displayName": "Matthieu Desse",
      "photoUrl": "https://lh3.googleusercontent.com/a-/AAuE7mCW_qO8excZWWoutJ8E1UkkWX-m82i7ULvlHJnqDg=s64",
      "userId": "05743304492605462258"
     },
     "user_tz": -120
    },
    "id": "6Muuiw8Wsum9",
    "outputId": "bb49646f-27ed-4033-838e-a694360360d1"
   },
   "outputs": [
    {
     "name": "stdout",
     "output_type": "stream",
     "text": [
      " * sqlite:///wine.db\n",
      "Done.\n",
      "Done.\n",
      "Done.\n"
     ]
    },
    {
     "data": {
      "text/html": [
       "<table>\n",
       "    <tr>\n",
       "        <th>NB</th>\n",
       "        <th>DATES</th>\n",
       "        <th>LIEU</th>\n",
       "        <th>QTE</th>\n",
       "        <th>NV</th>\n",
       "    </tr>\n",
       "    <tr>\n",
       "        <td>2</td>\n",
       "        <td>1977-11-02</td>\n",
       "        <td>BORDEAUX</td>\n",
       "        <td>33</td>\n",
       "        <td>1</td>\n",
       "    </tr>\n",
       "    <tr>\n",
       "        <td>44</td>\n",
       "        <td>2015-10-16</td>\n",
       "        <td>PARIS</td>\n",
       "        <td>1</td>\n",
       "        <td>1</td>\n",
       "    </tr>\n",
       "    <tr>\n",
       "        <td>45</td>\n",
       "        <td>1983-12-31</td>\n",
       "        <td>RENNES</td>\n",
       "        <td>1</td>\n",
       "        <td>1</td>\n",
       "    </tr>\n",
       "    <tr>\n",
       "        <td>48</td>\n",
       "        <td>1983-12-25</td>\n",
       "        <td>LYON</td>\n",
       "        <td>2</td>\n",
       "        <td>2</td>\n",
       "    </tr>\n",
       "    <tr>\n",
       "        <td>7</td>\n",
       "        <td>1978-11-01</td>\n",
       "        <td>NICE</td>\n",
       "        <td>6</td>\n",
       "        <td>3</td>\n",
       "    </tr>\n",
       "</table>"
      ],
      "text/plain": [
       "[(2, '1977-11-02', 'BORDEAUX', 33, 1),\n",
       " (44, '2015-10-16', 'PARIS', 1, 1),\n",
       " (45, '1983-12-31', 'RENNES', 1, 1),\n",
       " (48, '1983-12-25', 'LYON', 2, 2),\n",
       " (7, '1978-11-01', 'NICE', 6, 3)]"
      ]
     },
     "execution_count": 16,
     "metadata": {},
     "output_type": "execute_result"
    }
   ],
   "source": [
    "%%sql \n",
    "DROP TABLE IF EXISTS sales;\n",
    "CREATE TABLE sales AS\n",
    "SELECT DISTINCT NB, DATES, LIEU, QTE, NV \n",
    "FROM Master2\n",
    "WHERE LIEU IS NOT NULL AND NB IS NOT NULL;\n",
    "SELECT *\n",
    "FROM sales\n",
    "LIMIT 5;"
   ]
  },
  {
   "cell_type": "markdown",
   "metadata": {
    "colab_type": "text",
    "id": "cgtw18WeHpeE"
   },
   "source": [
    "Once you have defined the 2NF or 3NF (as applicable) we need to split the data into new tables.\n",
    "\n",
    "A table can be created from the result of a query.\n",
    "\n",
    "In the following example we will create a new table \"dummy\" to store the different values of alcohol content."
   ]
  },
  {
   "cell_type": "code",
   "execution_count": 119,
   "metadata": {
    "colab": {
     "base_uri": "https://localhost:8080/",
     "height": 84
    },
    "colab_type": "code",
    "executionInfo": {
     "elapsed": 491,
     "status": "ok",
     "timestamp": 1571148045210,
     "user": {
      "displayName": "Matthieu Desse",
      "photoUrl": "https://lh3.googleusercontent.com/a-/AAuE7mCW_qO8excZWWoutJ8E1UkkWX-m82i7ULvlHJnqDg=s64",
      "userId": "05743304492605462258"
     },
     "user_tz": -120
    },
    "id": "LyQIob2MHpeF",
    "outputId": "9d2ba16b-4220-4c4b-bf73-c74320b93800"
   },
   "outputs": [
    {
     "name": "stdout",
     "output_type": "stream",
     "text": [
      " * sqlite:///wine.db\n",
      "Done.\n",
      "Done.\n"
     ]
    },
    {
     "data": {
      "text/plain": [
       "[]"
      ]
     },
     "execution_count": 119,
     "metadata": {},
     "output_type": "execute_result"
    }
   ],
   "source": [
    "%%sql DROP TABLE IF EXISTS dummy;\n",
    "\n",
    "-- Create dummy table\n",
    "CREATE TABLE dummy AS\n",
    "SELECT DISTINCT DEGRE\n",
    "FROM MASTER1;"
   ]
  },
  {
   "cell_type": "code",
   "execution_count": 18,
   "metadata": {
    "colab": {
     "base_uri": "https://localhost:8080/",
     "height": 924
    },
    "colab_type": "code",
    "executionInfo": {
     "elapsed": 452,
     "status": "ok",
     "timestamp": 1571148092541,
     "user": {
      "displayName": "Matthieu Desse",
      "photoUrl": "https://lh3.googleusercontent.com/a-/AAuE7mCW_qO8excZWWoutJ8E1UkkWX-m82i7ULvlHJnqDg=s64",
      "userId": "05743304492605462258"
     },
     "user_tz": -120
    },
    "id": "izWI60CjHpeH",
    "outputId": "642c400e-f8d4-4e8b-f7f3-d55d6aab0eaf"
   },
   "outputs": [
    {
     "name": "stdout",
     "output_type": "stream",
     "text": [
      "\n",
      "Content of the database\n",
      "MASTER1:\n",
      "  0: NV(NUM)\n",
      "  1: CRU(TEXT)\n",
      "  2: DEGRE(NUM)\n",
      "  3: MILL(NUM)\n",
      "  4: QTE(NUM)\n",
      "  5: NP(NUM)\n",
      "  6: NOM(TEXT)\n",
      "  7: PRENOM(TEXT)\n",
      "  8: REGION(TEXT)\n",
      "MASTER2:\n",
      "  0: NV(NUM)\n",
      "  1: CRU(TEXT)\n",
      "  2: DEGRE(NUM)\n",
      "  3: MILL(NUM)\n",
      "  4: DATES(DATE)\n",
      "  5: LIEU(TEXT)\n",
      "  6: QTE(NUM)\n",
      "  7: NB(NUM)\n",
      "  8: NOM(TEXT)\n",
      "  9: PRENOM(TEXT)\n",
      "  10: TYPE(TEXT)\n",
      "  11: REGION(TEXT)\n",
      "customer:\n",
      "  0: NB(NUM)\n",
      "  1: NOM(TEXT)\n",
      "  2: PRENOM(TEXT)\n",
      "  3: TYPE(TEXT)\n",
      "dummy:\n",
      "  0: DEGRE(NUM)\n",
      "place:\n",
      "  0: LIEU(TEXT)\n",
      "  1: REGION(TEXT)\n",
      "production:\n",
      "  0: NP(NUM)\n",
      "  1: NOM(TEXT)\n",
      "  2: PRENOM(TEXT)\n",
      "  3: REGION(TEXT)\n",
      "quantity:\n",
      "  0: NP(NUM)\n",
      "  1: NV(NUM)\n",
      "  2: QTE(NUM)\n",
      "sales:\n",
      "  0: NB(NUM)\n",
      "  1: DATES(NUM)\n",
      "  2: LIEU(TEXT)\n",
      "  3: QTE(NUM)\n",
      "  4: NV(NUM)\n",
      "wine:\n",
      "  0: NV(NUM)\n",
      "  1: CRU(TEXT)\n",
      "  2: DEGRE(NUM)\n",
      "  3: MILL(NUM)\n"
     ]
    }
   ],
   "source": [
    "print(\"\\nContent of the database\")\n",
    "printSchema(conn)"
   ]
  },
  {
   "cell_type": "code",
   "execution_count": 121,
   "metadata": {
    "colab": {
     "base_uri": "https://localhost:8080/",
     "height": 512
    },
    "colab_type": "code",
    "executionInfo": {
     "elapsed": 522,
     "status": "ok",
     "timestamp": 1571148105561,
     "user": {
      "displayName": "Matthieu Desse",
      "photoUrl": "https://lh3.googleusercontent.com/a-/AAuE7mCW_qO8excZWWoutJ8E1UkkWX-m82i7ULvlHJnqDg=s64",
      "userId": "05743304492605462258"
     },
     "user_tz": -120
    },
    "id": "6ZYr77WtHpeI",
    "outputId": "53c05ed5-003b-4f05-f699-e0edc4a349d8"
   },
   "outputs": [
    {
     "name": "stdout",
     "output_type": "stream",
     "text": [
      " * sqlite:///wine.db\n",
      "Done.\n"
     ]
    },
    {
     "data": {
      "text/html": [
       "<table>\n",
       "    <tr>\n",
       "        <th>DEGRE</th>\n",
       "    </tr>\n",
       "    <tr>\n",
       "        <td>None</td>\n",
       "    </tr>\n",
       "    <tr>\n",
       "        <td>11.5</td>\n",
       "    </tr>\n",
       "    <tr>\n",
       "        <td>11.3</td>\n",
       "    </tr>\n",
       "    <tr>\n",
       "        <td>12.1</td>\n",
       "    </tr>\n",
       "    <tr>\n",
       "        <td>10.9</td>\n",
       "    </tr>\n",
       "</table>"
      ],
      "text/plain": [
       "[(None,), (11.5,), (11.3,), (12.1,), (10.9,)]"
      ]
     },
     "execution_count": 121,
     "metadata": {},
     "output_type": "execute_result"
    }
   ],
   "source": [
    "%%sql\n",
    "SELECT *\n",
    "FROM dummy\n",
    "LIMIT 5;"
   ]
  },
  {
   "cell_type": "markdown",
   "metadata": {
    "colab_type": "text",
    "id": "XjYETUHpHpeK"
   },
   "source": [
    "Looking into \"dummy\", we notice that our query includes NULL. This is not allowed if we were to use DEGRE as key for a table.\n",
    "\n",
    "To correct this, we need to change the query to explicitly test for NULL as follows:"
   ]
  },
  {
   "cell_type": "code",
   "execution_count": 122,
   "metadata": {
    "colab": {
     "base_uri": "https://localhost:8080/",
     "height": 526
    },
    "colab_type": "code",
    "executionInfo": {
     "elapsed": 508,
     "status": "ok",
     "timestamp": 1571148131054,
     "user": {
      "displayName": "Matthieu Desse",
      "photoUrl": "https://lh3.googleusercontent.com/a-/AAuE7mCW_qO8excZWWoutJ8E1UkkWX-m82i7ULvlHJnqDg=s64",
      "userId": "05743304492605462258"
     },
     "user_tz": -120
    },
    "id": "N8rkR-RaHpeK",
    "outputId": "db53d241-9844-487f-ed56-83e2773575b5"
   },
   "outputs": [
    {
     "name": "stdout",
     "output_type": "stream",
     "text": [
      " * sqlite:///wine.db\n",
      "Done.\n",
      "Done.\n",
      "Done.\n"
     ]
    },
    {
     "data": {
      "text/html": [
       "<table>\n",
       "    <tr>\n",
       "        <th>DEGRE</th>\n",
       "    </tr>\n",
       "    <tr>\n",
       "        <td>11.5</td>\n",
       "    </tr>\n",
       "    <tr>\n",
       "        <td>11.3</td>\n",
       "    </tr>\n",
       "    <tr>\n",
       "        <td>12.1</td>\n",
       "    </tr>\n",
       "    <tr>\n",
       "        <td>10.9</td>\n",
       "    </tr>\n",
       "    <tr>\n",
       "        <td>11.7</td>\n",
       "    </tr>\n",
       "</table>"
      ],
      "text/plain": [
       "[(11.5,), (11.3,), (12.1,), (10.9,), (11.7,)]"
      ]
     },
     "execution_count": 122,
     "metadata": {},
     "output_type": "execute_result"
    }
   ],
   "source": [
    "%%sql DROP TABLE IF EXISTS dummy;\n",
    "\n",
    "-- Create dummy table\n",
    "CREATE TABLE dummy AS\n",
    "SELECT DISTINCT DEGRE\n",
    "FROM MASTER1\n",
    "WHERE DEGRE IS NOT NULL;\n",
    "\n",
    "SELECT *\n",
    "FROM dummy\n",
    "LIMIT 5;"
   ]
  },
  {
   "cell_type": "markdown",
   "metadata": {
    "colab_type": "text",
    "id": "rwrMDs4aHpeM"
   },
   "source": [
    "Notice that we use `NULL` given that `None` is only used for display."
   ]
  },
  {
   "cell_type": "code",
   "execution_count": 123,
   "metadata": {
    "colab": {
     "base_uri": "https://localhost:8080/",
     "height": 67
    },
    "colab_type": "code",
    "executionInfo": {
     "elapsed": 816,
     "status": "ok",
     "timestamp": 1571148136251,
     "user": {
      "displayName": "Matthieu Desse",
      "photoUrl": "https://lh3.googleusercontent.com/a-/AAuE7mCW_qO8excZWWoutJ8E1UkkWX-m82i7ULvlHJnqDg=s64",
      "userId": "05743304492605462258"
     },
     "user_tz": -120
    },
    "id": "pcN5wKZAHpeN",
    "outputId": "6a381842-1105-42c5-ce49-4ea84f298a09"
   },
   "outputs": [
    {
     "name": "stdout",
     "output_type": "stream",
     "text": [
      " * sqlite:///wine.db\n",
      "Done.\n"
     ]
    },
    {
     "data": {
      "text/plain": [
       "[]"
      ]
     },
     "execution_count": 123,
     "metadata": {},
     "output_type": "execute_result"
    }
   ],
   "source": [
    "# Remove \"dummy\" table\n",
    "%sql DROP TABLE IF EXISTS dummy;"
   ]
  },
  {
   "cell_type": "markdown",
   "metadata": {
    "colab_type": "text",
    "id": "gSOgdQTBHpeO"
   },
   "source": [
    "#### Exercise 1.3\n",
    "\n",
    "Create the new tables from Master1:"
   ]
  },
  {
   "cell_type": "markdown",
   "metadata": {
    "colab": {},
    "colab_type": "code",
    "id": "BF7SGL4EHpeP"
   },
   "source": [
    "We created it above."
   ]
  },
  {
   "cell_type": "markdown",
   "metadata": {
    "colab_type": "text",
    "id": "HUvIG9ogHpeR"
   },
   "source": [
    "#### Exercise 1.4\n",
    "\n",
    "Create the new tables from Master2:"
   ]
  },
  {
   "cell_type": "markdown",
   "metadata": {
    "colab": {},
    "colab_type": "code",
    "id": "xdEGmwTmHpeR"
   },
   "source": [
    "We created it above."
   ]
  },
  {
   "cell_type": "markdown",
   "metadata": {
    "colab_type": "text",
    "id": "DgcN_OM1HpeT"
   },
   "source": [
    "# PART II: SQL QUERIES\n",
    "\n",
    "In the second part of this TP you will create SQL queries to retrieve information from the database.\n",
    "\n",
    "**Important:**\n",
    "\n",
    "- You MUST use the normalized tables created in previous steps.\n",
    "  - The normalized tables will also be used in TP3.\n",
    "- Do NOT use **Master1** and **Master2** in your queries."
   ]
  },
  {
   "cell_type": "markdown",
   "metadata": {
    "colab_type": "text",
    "id": "0kn4sH3VHpeT"
   },
   "source": [
    "#### Exercise 2.1\n",
    "\n",
    "What are the different types of clients (buveurs) by volume of purchases?"
   ]
  },
  {
   "cell_type": "code",
   "execution_count": 22,
   "metadata": {
    "colab": {
     "base_uri": "https://localhost:8080/",
     "height": 132
    },
    "colab_type": "code",
    "executionInfo": {
     "elapsed": 539,
     "status": "ok",
     "timestamp": 1571148412992,
     "user": {
      "displayName": "Matthieu Desse",
      "photoUrl": "https://lh3.googleusercontent.com/a-/AAuE7mCW_qO8excZWWoutJ8E1UkkWX-m82i7ULvlHJnqDg=s64",
      "userId": "05743304492605462258"
     },
     "user_tz": -120
    },
    "id": "AKNrDH1LvYwL",
    "outputId": "31d714cc-74b7-45fe-a4b6-1136a02a8db2"
   },
   "outputs": [
    {
     "name": "stdout",
     "output_type": "stream",
     "text": [
      " * sqlite:///wine.db\n",
      "Done.\n"
     ]
    },
    {
     "data": {
      "text/html": [
       "<table>\n",
       "    <tr>\n",
       "        <th>TYPE</th>\n",
       "    </tr>\n",
       "    <tr>\n",
       "        <td>petit</td>\n",
       "    </tr>\n",
       "    <tr>\n",
       "        <td>moyen</td>\n",
       "    </tr>\n",
       "    <tr>\n",
       "        <td>gros</td>\n",
       "    </tr>\n",
       "</table>"
      ],
      "text/plain": [
       "[('petit',), ('moyen',), ('gros',)]"
      ]
     },
     "execution_count": 22,
     "metadata": {},
     "output_type": "execute_result"
    }
   ],
   "source": [
    "%%sql SELECT DISTINCT type\n",
    "FROM customer;"
   ]
  },
  {
   "cell_type": "markdown",
   "metadata": {
    "colab_type": "text",
    "id": "OdsL0YeKHpeW"
   },
   "source": [
    "#### Exercise 2.2\n",
    "\n",
    "What regions produce Pommard or Brouilly?"
   ]
  },
  {
   "cell_type": "code",
   "execution_count": 125,
   "metadata": {
    "colab": {
     "base_uri": "https://localhost:8080/",
     "height": 34
    },
    "colab_type": "code",
    "executionInfo": {
     "elapsed": 695,
     "status": "error",
     "timestamp": 1571310276452,
     "user": {
      "displayName": "Matthieu Desse",
      "photoUrl": "https://lh3.googleusercontent.com/a-/AAuE7mCW_qO8excZWWoutJ8E1UkkWX-m82i7ULvlHJnqDg=s64",
      "userId": "05743304492605462258"
     },
     "user_tz": -120
    },
    "id": "38r8fL8w0YKm",
    "outputId": "6dfe9bce-72c2-45ff-a0b0-4d76a26fa1ce"
   },
   "outputs": [
    {
     "name": "stdout",
     "output_type": "stream",
     "text": [
      " * sqlite:///wine.db\n",
      "Done.\n"
     ]
    },
    {
     "data": {
      "text/html": [
       "<table>\n",
       "    <tr>\n",
       "        <th>CRU</th>\n",
       "        <th>REGION</th>\n",
       "    </tr>\n",
       "    <tr>\n",
       "        <td>Pommard</td>\n",
       "        <td>Bourgogne</td>\n",
       "    </tr>\n",
       "    <tr>\n",
       "        <td>Pommard</td>\n",
       "        <td>Rhone</td>\n",
       "    </tr>\n",
       "    <tr>\n",
       "        <td>Brouilly</td>\n",
       "        <td>Bourgogne</td>\n",
       "    </tr>\n",
       "</table>"
      ],
      "text/plain": [
       "[('Pommard', 'Bourgogne'), ('Pommard', 'Rhone'), ('Brouilly', 'Bourgogne')]"
      ]
     },
     "execution_count": 125,
     "metadata": {},
     "output_type": "execute_result"
    }
   ],
   "source": [
    "%%sql\n",
    "SELECT CRU, REGION\n",
    "FROM quantity JOIN production ON quantity.NP = production.NP\n",
    "              JOIN wine ON quantity.NV = wine.NV\n",
    "WHERE CRU=\"Pommard\" or CRU =\"Brouilly\""
   ]
  },
  {
   "cell_type": "markdown",
   "metadata": {
    "colab_type": "text",
    "id": "qb1ZRi-CHpeZ"
   },
   "source": [
    "#### Exercise 2.3\n",
    "\n",
    "What regions produce Pommard and Brouilly?"
   ]
  },
  {
   "cell_type": "code",
   "execution_count": 149,
   "metadata": {
    "scrolled": true
   },
   "outputs": [
    {
     "name": "stdout",
     "output_type": "stream",
     "text": [
      " * sqlite:///wine.db\n",
      "Done.\n"
     ]
    },
    {
     "data": {
      "text/html": [
       "<table>\n",
       "    <tr>\n",
       "        <th>REGION</th>\n",
       "    </tr>\n",
       "    <tr>\n",
       "        <td>Bourgogne</td>\n",
       "    </tr>\n",
       "</table>"
      ],
      "text/plain": [
       "[('Bourgogne',)]"
      ]
     },
     "execution_count": 149,
     "metadata": {},
     "output_type": "execute_result"
    }
   ],
   "source": [
    "%%sql\n",
    "SELECT DISTINCT REGION\n",
    "FROM quantity JOIN production ON quantity.NP = production.NP\n",
    "              JOIN wine ON quantity.NV = wine.NV \n",
    "GROUP BY CRU\n",
    "HAVING CRU in (\"Pommard\",\"Brouilly\")\n",
    "    "
   ]
  },
  {
   "cell_type": "markdown",
   "metadata": {
    "colab_type": "text",
    "id": "DvsZdkzAHped"
   },
   "source": [
    "#### Exercise 2.4\n",
    "\n",
    "Get the number of wines bught by CRU and Millésime"
   ]
  },
  {
   "cell_type": "code",
   "execution_count": 151,
   "metadata": {},
   "outputs": [
    {
     "name": "stdout",
     "output_type": "stream",
     "text": [
      " * sqlite:///wine.db\n",
      "Done.\n"
     ]
    },
    {
     "data": {
      "text/html": [
       "<table>\n",
       "    <tr>\n",
       "        <th>CRU</th>\n",
       "        <th>MILL</th>\n",
       "        <th>SUM(sales.QTE)</th>\n",
       "    </tr>\n",
       "    <tr>\n",
       "        <td>Chenas</td>\n",
       "        <td>1984</td>\n",
       "        <td>1</td>\n",
       "    </tr>\n",
       "    <tr>\n",
       "        <td>Beaujolais Primeur</td>\n",
       "        <td>1983</td>\n",
       "        <td>7</td>\n",
       "    </tr>\n",
       "    <tr>\n",
       "        <td>Mercurey</td>\n",
       "        <td>1981</td>\n",
       "        <td>36</td>\n",
       "    </tr>\n",
       "    <tr>\n",
       "        <td>Cotes de Provence</td>\n",
       "        <td>1980</td>\n",
       "        <td>18</td>\n",
       "    </tr>\n",
       "    <tr>\n",
       "        <td>Tavel</td>\n",
       "        <td>1980</td>\n",
       "        <td>17</td>\n",
       "    </tr>\n",
       "    <tr>\n",
       "        <td>Tavel</td>\n",
       "        <td>1980</td>\n",
       "        <td>16</td>\n",
       "    </tr>\n",
       "    <tr>\n",
       "        <td>Rasteau</td>\n",
       "        <td>1980</td>\n",
       "        <td>15</td>\n",
       "    </tr>\n",
       "    <tr>\n",
       "        <td>Saint Amour</td>\n",
       "        <td>1980</td>\n",
       "        <td>14</td>\n",
       "    </tr>\n",
       "    <tr>\n",
       "        <td>Cornas</td>\n",
       "        <td>1980</td>\n",
       "        <td>13</td>\n",
       "    </tr>\n",
       "    <tr>\n",
       "        <td>Cornas</td>\n",
       "        <td>1980</td>\n",
       "        <td>12</td>\n",
       "    </tr>\n",
       "    <tr>\n",
       "        <td>Seyssel</td>\n",
       "        <td>1980</td>\n",
       "        <td>11</td>\n",
       "    </tr>\n",
       "    <tr>\n",
       "        <td>Seyssel</td>\n",
       "        <td>1980</td>\n",
       "        <td>10</td>\n",
       "    </tr>\n",
       "    <tr>\n",
       "        <td>Etoile</td>\n",
       "        <td>1980</td>\n",
       "        <td>9</td>\n",
       "    </tr>\n",
       "    <tr>\n",
       "        <td>Arbois</td>\n",
       "        <td>1980</td>\n",
       "        <td>8</td>\n",
       "    </tr>\n",
       "    <tr>\n",
       "        <td>Fleurie</td>\n",
       "        <td>1980</td>\n",
       "        <td>7</td>\n",
       "    </tr>\n",
       "    <tr>\n",
       "        <td>Volnay</td>\n",
       "        <td>1980</td>\n",
       "        <td>5</td>\n",
       "    </tr>\n",
       "    <tr>\n",
       "        <td>Chateau Corton Grancey</td>\n",
       "        <td>1980</td>\n",
       "        <td>4</td>\n",
       "    </tr>\n",
       "    <tr>\n",
       "        <td>Cote de Brouilly</td>\n",
       "        <td>1980</td>\n",
       "        <td>23</td>\n",
       "    </tr>\n",
       "    <tr>\n",
       "        <td>Meursault</td>\n",
       "        <td>1980</td>\n",
       "        <td>2</td>\n",
       "    </tr>\n",
       "    <tr>\n",
       "        <td>Mercurey</td>\n",
       "        <td>1980</td>\n",
       "        <td>22</td>\n",
       "    </tr>\n",
       "    <tr>\n",
       "        <td>Mercurey</td>\n",
       "        <td>1980</td>\n",
       "        <td>35</td>\n",
       "    </tr>\n",
       "    <tr>\n",
       "        <td>Beaujolais Villages</td>\n",
       "        <td>1979</td>\n",
       "        <td>520</td>\n",
       "    </tr>\n",
       "    <tr>\n",
       "        <td>Coteaux du Tricastin</td>\n",
       "        <td>1978</td>\n",
       "        <td>12</td>\n",
       "    </tr>\n",
       "    <tr>\n",
       "        <td>Gigondas</td>\n",
       "        <td>1978</td>\n",
       "        <td>5</td>\n",
       "    </tr>\n",
       "    <tr>\n",
       "        <td>Beaujolais Villages</td>\n",
       "        <td>1978</td>\n",
       "        <td>130</td>\n",
       "    </tr>\n",
       "    <tr>\n",
       "        <td>Cotes de Nuits</td>\n",
       "        <td>1978</td>\n",
       "        <td>21</td>\n",
       "    </tr>\n",
       "    <tr>\n",
       "        <td>Savigny les Beaunes</td>\n",
       "        <td>1978</td>\n",
       "        <td>11</td>\n",
       "    </tr>\n",
       "    <tr>\n",
       "        <td>Savigny les Beaunes</td>\n",
       "        <td>1977</td>\n",
       "        <td>7</td>\n",
       "    </tr>\n",
       "    <tr>\n",
       "        <td>Beaujolais Villages</td>\n",
       "        <td>1976</td>\n",
       "        <td>120</td>\n",
       "    </tr>\n",
       "    <tr>\n",
       "        <td>Clairette de Die</td>\n",
       "        <td>1976</td>\n",
       "        <td>5</td>\n",
       "    </tr>\n",
       "    <tr>\n",
       "        <td>Pommard</td>\n",
       "        <td>1976</td>\n",
       "        <td>55</td>\n",
       "    </tr>\n",
       "    <tr>\n",
       "        <td>Beaujolais Villages</td>\n",
       "        <td>1975</td>\n",
       "        <td>10</td>\n",
       "    </tr>\n",
       "    <tr>\n",
       "        <td>Gentil</td>\n",
       "        <td>1975</td>\n",
       "        <td>36</td>\n",
       "    </tr>\n",
       "    <tr>\n",
       "        <td>Cotes de Beaune Villages</td>\n",
       "        <td>1975</td>\n",
       "        <td>96</td>\n",
       "    </tr>\n",
       "    <tr>\n",
       "        <td>Seyssel</td>\n",
       "        <td>1974</td>\n",
       "        <td>24</td>\n",
       "    </tr>\n",
       "    <tr>\n",
       "        <td>Coteaux du Tricastin</td>\n",
       "        <td>1974</td>\n",
       "        <td>1</td>\n",
       "    </tr>\n",
       "    <tr>\n",
       "        <td>Saint Amour</td>\n",
       "        <td>1974</td>\n",
       "        <td>80</td>\n",
       "    </tr>\n",
       "    <tr>\n",
       "        <td>Savigny les Beaunes</td>\n",
       "        <td>1974</td>\n",
       "        <td>44</td>\n",
       "    </tr>\n",
       "    <tr>\n",
       "        <td>Julienas</td>\n",
       "        <td>1974</td>\n",
       "        <td>2</td>\n",
       "    </tr>\n",
       "    <tr>\n",
       "        <td>Chapelle Chambertin</td>\n",
       "        <td>1973</td>\n",
       "        <td>30</td>\n",
       "    </tr>\n",
       "    <tr>\n",
       "        <td>Pommard</td>\n",
       "        <td>1972</td>\n",
       "        <td>23</td>\n",
       "    </tr>\n",
       "    <tr>\n",
       "        <td>Cotes de Beaune Villages</td>\n",
       "        <td>1971</td>\n",
       "        <td>14</td>\n",
       "    </tr>\n",
       "    <tr>\n",
       "        <td>Pouilly Vinzelles</td>\n",
       "        <td>1968</td>\n",
       "        <td>10</td>\n",
       "    </tr>\n",
       "    <tr>\n",
       "        <td>Monthelie</td>\n",
       "        <td>1968</td>\n",
       "        <td>106</td>\n",
       "    </tr>\n",
       "    <tr>\n",
       "        <td>Grands Echezeaux</td>\n",
       "        <td>1968</td>\n",
       "        <td>31</td>\n",
       "    </tr>\n",
       "    <tr>\n",
       "        <td>Richebourg</td>\n",
       "        <td>1943</td>\n",
       "        <td>72</td>\n",
       "    </tr>\n",
       "    <tr>\n",
       "        <td>Auxey Duresses</td>\n",
       "        <td>1914</td>\n",
       "        <td>80</td>\n",
       "    </tr>\n",
       "</table>"
      ],
      "text/plain": [
       "[('Chenas', 1984, 1),\n",
       " ('Beaujolais Primeur', 1983, 7),\n",
       " ('Mercurey', 1981, 36),\n",
       " ('Cotes de Provence', 1980, 18),\n",
       " ('Tavel', 1980, 17),\n",
       " ('Tavel', 1980, 16),\n",
       " ('Rasteau', 1980, 15),\n",
       " ('Saint Amour', 1980, 14),\n",
       " ('Cornas', 1980, 13),\n",
       " ('Cornas', 1980, 12),\n",
       " ('Seyssel', 1980, 11),\n",
       " ('Seyssel', 1980, 10),\n",
       " ('Etoile', 1980, 9),\n",
       " ('Arbois', 1980, 8),\n",
       " ('Fleurie', 1980, 7),\n",
       " ('Volnay', 1980, 5),\n",
       " ('Chateau Corton Grancey', 1980, 4),\n",
       " ('Cote de Brouilly', 1980, 23),\n",
       " ('Meursault', 1980, 2),\n",
       " ('Mercurey', 1980, 22),\n",
       " ('Mercurey', 1980, 35),\n",
       " ('Beaujolais Villages', 1979, 520),\n",
       " ('Coteaux du Tricastin', 1978, 12),\n",
       " ('Gigondas', 1978, 5),\n",
       " ('Beaujolais Villages', 1978, 130),\n",
       " ('Cotes de Nuits', 1978, 21),\n",
       " ('Savigny les Beaunes', 1978, 11),\n",
       " ('Savigny les Beaunes', 1977, 7),\n",
       " ('Beaujolais Villages', 1976, 120),\n",
       " ('Clairette de Die', 1976, 5),\n",
       " ('Pommard', 1976, 55),\n",
       " ('Beaujolais Villages', 1975, 10),\n",
       " ('Gentil', 1975, 36),\n",
       " ('Cotes de Beaune Villages', 1975, 96),\n",
       " ('Seyssel', 1974, 24),\n",
       " ('Coteaux du Tricastin', 1974, 1),\n",
       " ('Saint Amour', 1974, 80),\n",
       " ('Savigny les Beaunes', 1974, 44),\n",
       " ('Julienas', 1974, 2),\n",
       " ('Chapelle Chambertin', 1973, 30),\n",
       " ('Pommard', 1972, 23),\n",
       " ('Cotes de Beaune Villages', 1971, 14),\n",
       " ('Pouilly Vinzelles', 1968, 10),\n",
       " ('Monthelie', 1968, 106),\n",
       " ('Grands Echezeaux', 1968, 31),\n",
       " ('Richebourg', 1943, 72),\n",
       " ('Auxey Duresses', 1914, 80)]"
      ]
     },
     "execution_count": 151,
     "metadata": {},
     "output_type": "execute_result"
    }
   ],
   "source": [
    "%%sql\n",
    "SELECT wine.cru, wine.MILL, SUM(sales.QTE) \n",
    "FROM sales JOIN Wine ON wine.NV = sales.NV\n",
    "GROUP BY sales.NV\n",
    "ORDER BY wine.MILL DESC;\n"
   ]
  },
  {
   "cell_type": "markdown",
   "metadata": {
    "colab_type": "text",
    "id": "4xb_0FD8Hpeg"
   },
   "source": [
    "#### Exercise 2.5\n",
    "\n",
    "Retrieve the wine number (NV) of wines produced by more than three producers"
   ]
  },
  {
   "cell_type": "code",
   "execution_count": 152,
   "metadata": {},
   "outputs": [
    {
     "name": "stdout",
     "output_type": "stream",
     "text": [
      " * sqlite:///wine.db\n",
      "Done.\n"
     ]
    },
    {
     "data": {
      "text/html": [
       "<table>\n",
       "    <tr>\n",
       "        <th>NV</th>\n",
       "        <th>count(production.NP)</th>\n",
       "    </tr>\n",
       "    <tr>\n",
       "        <td>45</td>\n",
       "        <td>5</td>\n",
       "    </tr>\n",
       "    <tr>\n",
       "        <td>78</td>\n",
       "        <td>5</td>\n",
       "    </tr>\n",
       "    <tr>\n",
       "        <td>89</td>\n",
       "        <td>4</td>\n",
       "    </tr>\n",
       "    <tr>\n",
       "        <td>98</td>\n",
       "        <td>5</td>\n",
       "    </tr>\n",
       "</table>"
      ],
      "text/plain": [
       "[(45, 5), (78, 5), (89, 4), (98, 5)]"
      ]
     },
     "execution_count": 152,
     "metadata": {},
     "output_type": "execute_result"
    }
   ],
   "source": [
    "%%sql \n",
    "SELECT quantity.NV, count(production.NP)\n",
    "FROM quantity JOIN production ON quantity.NP = production.NP\n",
    "GROUP BY quantity.NV\n",
    "HAVING count(production.NP)>3;\n"
   ]
  },
  {
   "cell_type": "markdown",
   "metadata": {
    "colab_type": "text",
    "id": "RwoDS860Hpei"
   },
   "source": [
    "#### Exercise 2.6\n",
    "\n",
    "Which producers have not produced any wine?"
   ]
  },
  {
   "cell_type": "code",
   "execution_count": 153,
   "metadata": {},
   "outputs": [
    {
     "name": "stdout",
     "output_type": "stream",
     "text": [
      " * sqlite:///wine.db\n",
      "Done.\n"
     ]
    },
    {
     "data": {
      "text/html": [
       "<table>\n",
       "    <tr>\n",
       "        <th>NP</th>\n",
       "        <th>NOM</th>\n",
       "        <th>PRENOM</th>\n",
       "    </tr>\n",
       "    <tr>\n",
       "        <td>3</td>\n",
       "        <td>Six</td>\n",
       "        <td>Paul</td>\n",
       "    </tr>\n",
       "    <tr>\n",
       "        <td>4</td>\n",
       "        <td>Stentz</td>\n",
       "        <td>Fernand</td>\n",
       "    </tr>\n",
       "    <tr>\n",
       "        <td>6</td>\n",
       "        <td>Marmagne</td>\n",
       "        <td>Bernard</td>\n",
       "    </tr>\n",
       "    <tr>\n",
       "        <td>8</td>\n",
       "        <td>Lioger d&#x27;Harduy</td>\n",
       "        <td>Gabriel</td>\n",
       "    </tr>\n",
       "    <tr>\n",
       "        <td>12</td>\n",
       "        <td>Tortochot</td>\n",
       "        <td>Gabriel</td>\n",
       "    </tr>\n",
       "    <tr>\n",
       "        <td>16</td>\n",
       "        <td>Barbin</td>\n",
       "        <td>Bernard</td>\n",
       "    </tr>\n",
       "    <tr>\n",
       "        <td>17</td>\n",
       "        <td>Faiveley</td>\n",
       "        <td>Guy</td>\n",
       "    </tr>\n",
       "    <tr>\n",
       "        <td>18</td>\n",
       "        <td>Tramier</td>\n",
       "        <td>Jean</td>\n",
       "    </tr>\n",
       "    <tr>\n",
       "        <td>19</td>\n",
       "        <td>Dupaquier</td>\n",
       "        <td>Roger</td>\n",
       "    </tr>\n",
       "    <tr>\n",
       "        <td>20</td>\n",
       "        <td>Lamy</td>\n",
       "        <td>Jean</td>\n",
       "    </tr>\n",
       "    <tr>\n",
       "        <td>21</td>\n",
       "        <td>Cornu</td>\n",
       "        <td>Edmond</td>\n",
       "    </tr>\n",
       "    <tr>\n",
       "        <td>26</td>\n",
       "        <td>Violot</td>\n",
       "        <td>Gilbert</td>\n",
       "    </tr>\n",
       "    <tr>\n",
       "        <td>28</td>\n",
       "        <td>Monnier</td>\n",
       "        <td>Rene</td>\n",
       "    </tr>\n",
       "    <tr>\n",
       "        <td>29</td>\n",
       "        <td>de Suremain</td>\n",
       "        <td>Robert</td>\n",
       "    </tr>\n",
       "    <tr>\n",
       "        <td>31</td>\n",
       "        <td>Prudhon</td>\n",
       "        <td>Henri</td>\n",
       "    </tr>\n",
       "    <tr>\n",
       "        <td>32</td>\n",
       "        <td>Mestre</td>\n",
       "        <td>Philippe</td>\n",
       "    </tr>\n",
       "    <tr>\n",
       "        <td>33</td>\n",
       "        <td>Prieur</td>\n",
       "        <td>Guy</td>\n",
       "    </tr>\n",
       "    <tr>\n",
       "        <td>34</td>\n",
       "        <td>Monnier</td>\n",
       "        <td>Rene</td>\n",
       "    </tr>\n",
       "    <tr>\n",
       "        <td>37</td>\n",
       "        <td>Delagrange Bachelet</td>\n",
       "        <td>None</td>\n",
       "    </tr>\n",
       "    <tr>\n",
       "        <td>39</td>\n",
       "        <td>de Suremin</td>\n",
       "        <td>Hugues</td>\n",
       "    </tr>\n",
       "    <tr>\n",
       "        <td>41</td>\n",
       "        <td>Juillot</td>\n",
       "        <td>Michel</td>\n",
       "    </tr>\n",
       "    <tr>\n",
       "        <td>44</td>\n",
       "        <td>Feyveley</td>\n",
       "        <td>None</td>\n",
       "    </tr>\n",
       "    <tr>\n",
       "        <td>47</td>\n",
       "        <td>Thenard</td>\n",
       "        <td>None</td>\n",
       "    </tr>\n",
       "    <tr>\n",
       "        <td>48</td>\n",
       "        <td>Flamand</td>\n",
       "        <td>None</td>\n",
       "    </tr>\n",
       "    <tr>\n",
       "        <td>49</td>\n",
       "        <td>Guillot</td>\n",
       "        <td>Pierre</td>\n",
       "    </tr>\n",
       "    <tr>\n",
       "        <td>51</td>\n",
       "        <td>Simonet</td>\n",
       "        <td>Leon</td>\n",
       "    </tr>\n",
       "    <tr>\n",
       "        <td>53</td>\n",
       "        <td>Cooperative</td>\n",
       "        <td>None</td>\n",
       "    </tr>\n",
       "    <tr>\n",
       "        <td>57</td>\n",
       "        <td>Desmules</td>\n",
       "        <td>Pierre</td>\n",
       "    </tr>\n",
       "    <tr>\n",
       "        <td>58</td>\n",
       "        <td>Joubert</td>\n",
       "        <td>Claude</td>\n",
       "    </tr>\n",
       "    <tr>\n",
       "        <td>61</td>\n",
       "        <td>Champier</td>\n",
       "        <td>Charles</td>\n",
       "    </tr>\n",
       "    <tr>\n",
       "        <td>62</td>\n",
       "        <td>Champagnon</td>\n",
       "        <td>Louis</td>\n",
       "    </tr>\n",
       "    <tr>\n",
       "        <td>66</td>\n",
       "        <td>Cooperative</td>\n",
       "        <td>None</td>\n",
       "    </tr>\n",
       "    <tr>\n",
       "        <td>77</td>\n",
       "        <td>Tissot</td>\n",
       "        <td>Andre</td>\n",
       "    </tr>\n",
       "    <tr>\n",
       "        <td>83</td>\n",
       "        <td>Goy</td>\n",
       "        <td>None</td>\n",
       "    </tr>\n",
       "    <tr>\n",
       "        <td>91</td>\n",
       "        <td>Chave</td>\n",
       "        <td>Gerard</td>\n",
       "    </tr>\n",
       "    <tr>\n",
       "        <td>92</td>\n",
       "        <td>De Boissieu</td>\n",
       "        <td>None</td>\n",
       "    </tr>\n",
       "    <tr>\n",
       "        <td>94</td>\n",
       "        <td>Grippat</td>\n",
       "        <td>Jean Louis</td>\n",
       "    </tr>\n",
       "    <tr>\n",
       "        <td>96</td>\n",
       "        <td>Boisson</td>\n",
       "        <td>Jean Pierre</td>\n",
       "    </tr>\n",
       "    <tr>\n",
       "        <td>97</td>\n",
       "        <td>Quiot</td>\n",
       "        <td>Pierre</td>\n",
       "    </tr>\n",
       "    <tr>\n",
       "        <td>100</td>\n",
       "        <td>Bernard</td>\n",
       "        <td>Georges</td>\n",
       "    </tr>\n",
       "    <tr>\n",
       "        <td>101</td>\n",
       "        <td>Verdan</td>\n",
       "        <td>Antoine</td>\n",
       "    </tr>\n",
       "    <tr>\n",
       "        <td>102</td>\n",
       "        <td>Cooperative</td>\n",
       "        <td>None</td>\n",
       "    </tr>\n",
       "    <tr>\n",
       "        <td>103</td>\n",
       "        <td>Coulouvrat</td>\n",
       "        <td>Michel</td>\n",
       "    </tr>\n",
       "    <tr>\n",
       "        <td>104</td>\n",
       "        <td>Rabasse Chavarin</td>\n",
       "        <td>Abel</td>\n",
       "    </tr>\n",
       "    <tr>\n",
       "        <td>105</td>\n",
       "        <td>Roux</td>\n",
       "        <td>Charles</td>\n",
       "    </tr>\n",
       "    <tr>\n",
       "        <td>106</td>\n",
       "        <td>Alary</td>\n",
       "        <td>None</td>\n",
       "    </tr>\n",
       "    <tr>\n",
       "        <td>108</td>\n",
       "        <td>Archimbaud</td>\n",
       "        <td>Jean</td>\n",
       "    </tr>\n",
       "    <tr>\n",
       "        <td>109</td>\n",
       "        <td>Rey</td>\n",
       "        <td>Marcel</td>\n",
       "    </tr>\n",
       "    <tr>\n",
       "        <td>110</td>\n",
       "        <td>Cooperative</td>\n",
       "        <td>None</td>\n",
       "    </tr>\n",
       "    <tr>\n",
       "        <td>111</td>\n",
       "        <td>Zafiropulo</td>\n",
       "        <td>Costa</td>\n",
       "    </tr>\n",
       "    <tr>\n",
       "        <td>112</td>\n",
       "        <td>Prebost</td>\n",
       "        <td>Gaston</td>\n",
       "    </tr>\n",
       "    <tr>\n",
       "        <td>113</td>\n",
       "        <td>Gomez</td>\n",
       "        <td>Rene</td>\n",
       "    </tr>\n",
       "    <tr>\n",
       "        <td>114</td>\n",
       "        <td>Brunet</td>\n",
       "        <td>Georges</td>\n",
       "    </tr>\n",
       "    <tr>\n",
       "        <td>115</td>\n",
       "        <td>Bordonado</td>\n",
       "        <td>Raymond</td>\n",
       "    </tr>\n",
       "    <tr>\n",
       "        <td>116</td>\n",
       "        <td>Imbert</td>\n",
       "        <td>Christian</td>\n",
       "    </tr>\n",
       "    <tr>\n",
       "        <td>117</td>\n",
       "        <td>Cooperative</td>\n",
       "        <td>None</td>\n",
       "    </tr>\n",
       "    <tr>\n",
       "        <td>118</td>\n",
       "        <td>Cooperative</td>\n",
       "        <td>None</td>\n",
       "    </tr>\n",
       "    <tr>\n",
       "        <td>119</td>\n",
       "        <td>Cooperative</td>\n",
       "        <td>None</td>\n",
       "    </tr>\n",
       "    <tr>\n",
       "        <td>121</td>\n",
       "        <td>Cooperative</td>\n",
       "        <td>None</td>\n",
       "    </tr>\n",
       "    <tr>\n",
       "        <td>122</td>\n",
       "        <td>Dupuy</td>\n",
       "        <td>Charles</td>\n",
       "    </tr>\n",
       "    <tr>\n",
       "        <td>123</td>\n",
       "        <td>Laurent</td>\n",
       "        <td>Pierre</td>\n",
       "    </tr>\n",
       "    <tr>\n",
       "        <td>124</td>\n",
       "        <td>Daurat Fort</td>\n",
       "        <td>Robert</td>\n",
       "    </tr>\n",
       "    <tr>\n",
       "        <td>125</td>\n",
       "        <td>Baldes</td>\n",
       "        <td>Jean</td>\n",
       "    </tr>\n",
       "    <tr>\n",
       "        <td>126</td>\n",
       "        <td>Jouffreau</td>\n",
       "        <td>Jean</td>\n",
       "    </tr>\n",
       "    <tr>\n",
       "        <td>127</td>\n",
       "        <td>Brumont</td>\n",
       "        <td>Alban</td>\n",
       "    </tr>\n",
       "    <tr>\n",
       "        <td>129</td>\n",
       "        <td>Barrere</td>\n",
       "        <td>Alfred</td>\n",
       "    </tr>\n",
       "</table>"
      ],
      "text/plain": [
       "[(3, 'Six', 'Paul'),\n",
       " (4, 'Stentz', 'Fernand'),\n",
       " (6, 'Marmagne', 'Bernard'),\n",
       " (8, \"Lioger d'Harduy\", 'Gabriel'),\n",
       " (12, 'Tortochot', 'Gabriel'),\n",
       " (16, 'Barbin', 'Bernard'),\n",
       " (17, 'Faiveley', 'Guy'),\n",
       " (18, 'Tramier', 'Jean'),\n",
       " (19, 'Dupaquier', 'Roger'),\n",
       " (20, 'Lamy', 'Jean'),\n",
       " (21, 'Cornu', 'Edmond'),\n",
       " (26, 'Violot', 'Gilbert'),\n",
       " (28, 'Monnier', 'Rene'),\n",
       " (29, 'de Suremain', 'Robert'),\n",
       " (31, 'Prudhon', 'Henri'),\n",
       " (32, 'Mestre', 'Philippe'),\n",
       " (33, 'Prieur', 'Guy'),\n",
       " (34, 'Monnier', 'Rene'),\n",
       " (37, 'Delagrange Bachelet', None),\n",
       " (39, 'de Suremin', 'Hugues'),\n",
       " (41, 'Juillot', 'Michel'),\n",
       " (44, 'Feyveley', None),\n",
       " (47, 'Thenard', None),\n",
       " (48, 'Flamand', None),\n",
       " (49, 'Guillot', 'Pierre'),\n",
       " (51, 'Simonet', 'Leon'),\n",
       " (53, 'Cooperative', None),\n",
       " (57, 'Desmules', 'Pierre'),\n",
       " (58, 'Joubert', 'Claude'),\n",
       " (61, 'Champier', 'Charles'),\n",
       " (62, 'Champagnon', 'Louis'),\n",
       " (66, 'Cooperative', None),\n",
       " (77, 'Tissot', 'Andre'),\n",
       " (83, 'Goy', None),\n",
       " (91, 'Chave', 'Gerard'),\n",
       " (92, 'De Boissieu', None),\n",
       " (94, 'Grippat', 'Jean Louis'),\n",
       " (96, 'Boisson', 'Jean Pierre'),\n",
       " (97, 'Quiot', 'Pierre'),\n",
       " (100, 'Bernard', 'Georges'),\n",
       " (101, 'Verdan', 'Antoine'),\n",
       " (102, 'Cooperative', None),\n",
       " (103, 'Coulouvrat', 'Michel'),\n",
       " (104, 'Rabasse Chavarin', 'Abel'),\n",
       " (105, 'Roux', 'Charles'),\n",
       " (106, 'Alary', None),\n",
       " (108, 'Archimbaud', 'Jean'),\n",
       " (109, 'Rey', 'Marcel'),\n",
       " (110, 'Cooperative', None),\n",
       " (111, 'Zafiropulo', 'Costa'),\n",
       " (112, 'Prebost', 'Gaston'),\n",
       " (113, 'Gomez', 'Rene'),\n",
       " (114, 'Brunet', 'Georges'),\n",
       " (115, 'Bordonado', 'Raymond'),\n",
       " (116, 'Imbert', 'Christian'),\n",
       " (117, 'Cooperative', None),\n",
       " (118, 'Cooperative', None),\n",
       " (119, 'Cooperative', None),\n",
       " (121, 'Cooperative', None),\n",
       " (122, 'Dupuy', 'Charles'),\n",
       " (123, 'Laurent', 'Pierre'),\n",
       " (124, 'Daurat Fort', 'Robert'),\n",
       " (125, 'Baldes', 'Jean'),\n",
       " (126, 'Jouffreau', 'Jean'),\n",
       " (127, 'Brumont', 'Alban'),\n",
       " (129, 'Barrere', 'Alfred')]"
      ]
     },
     "execution_count": 153,
     "metadata": {},
     "output_type": "execute_result"
    }
   ],
   "source": [
    "%%sql\n",
    "SELECT production.NP, production.NOM, production.PRENOM\n",
    "FROM production LEFT JOIN quantity ON quantity.NP = production.NP\n",
    "WHERE quantity.QTE is null\n",
    "ORDER BY production.NP ASC;"
   ]
  },
  {
   "cell_type": "markdown",
   "metadata": {
    "colab_type": "text",
    "id": "1blzvU2lHpek"
   },
   "source": [
    "#### Exercise 2.7\n",
    "\n",
    "What clients (buveurs) have bought at least one wine from 1980?"
   ]
  },
  {
   "cell_type": "code",
   "execution_count": 159,
   "metadata": {},
   "outputs": [
    {
     "name": "stdout",
     "output_type": "stream",
     "text": [
      " * sqlite:///wine.db\n",
      "Done.\n"
     ]
    },
    {
     "data": {
      "text/html": [
       "<table>\n",
       "    <tr>\n",
       "        <th>NB</th>\n",
       "        <th>MILL</th>\n",
       "        <th>NOM</th>\n",
       "        <th>PRENOM</th>\n",
       "    </tr>\n",
       "    <tr>\n",
       "        <td>2</td>\n",
       "        <td>1980</td>\n",
       "        <td>Artaud</td>\n",
       "        <td>Antonin</td>\n",
       "    </tr>\n",
       "    <tr>\n",
       "        <td>8</td>\n",
       "        <td>1980</td>\n",
       "        <td>Aragon</td>\n",
       "        <td>Louis</td>\n",
       "    </tr>\n",
       "    <tr>\n",
       "        <td>44</td>\n",
       "        <td>1980</td>\n",
       "        <td>Gide</td>\n",
       "        <td>Andre</td>\n",
       "    </tr>\n",
       "    <tr>\n",
       "        <td>45</td>\n",
       "        <td>1980</td>\n",
       "        <td>Giono</td>\n",
       "        <td>Jean</td>\n",
       "    </tr>\n",
       "    <tr>\n",
       "        <td>50</td>\n",
       "        <td>1980</td>\n",
       "        <td>Lautreamont</td>\n",
       "        <td>None</td>\n",
       "    </tr>\n",
       "    <tr>\n",
       "        <td>61</td>\n",
       "        <td>1980</td>\n",
       "        <td>Mallarme</td>\n",
       "        <td>Stephane</td>\n",
       "    </tr>\n",
       "</table>"
      ],
      "text/plain": [
       "[(2, 1980, 'Artaud', 'Antonin'),\n",
       " (8, 1980, 'Aragon', 'Louis'),\n",
       " (44, 1980, 'Gide', 'Andre'),\n",
       " (45, 1980, 'Giono', 'Jean'),\n",
       " (50, 1980, 'Lautreamont', None),\n",
       " (61, 1980, 'Mallarme', 'Stephane')]"
      ]
     },
     "execution_count": 159,
     "metadata": {},
     "output_type": "execute_result"
    }
   ],
   "source": [
    "%%sql\n",
    "SELECT DISTINCT customer.NB, wine.MILL, customer.NOM, customer.PRENOM\n",
    "FROM sales JOIN customer ON customer.NB = sales.NB\n",
    "            JOIN wine ON wine.NV = sales.NV\n",
    "WHERE wine.MILL=1980\n",
    "ORDER BY customer.NB ASC;"
   ]
  },
  {
   "cell_type": "markdown",
   "metadata": {
    "colab_type": "text",
    "id": "1sApuKh7Hpem"
   },
   "source": [
    "#### Exercise 2.8\n",
    "\n",
    "What clients (buveurs) have NOT bought any wine from 1980?"
   ]
  },
  {
   "cell_type": "code",
   "execution_count": 164,
   "metadata": {},
   "outputs": [
    {
     "name": "stdout",
     "output_type": "stream",
     "text": [
      " * sqlite:///wine.db\n",
      "Done.\n"
     ]
    },
    {
     "data": {
      "text/html": [
       "<table>\n",
       "    <tr>\n",
       "        <th>NB</th>\n",
       "        <th>NOM</th>\n",
       "        <th>PRENOM</th>\n",
       "    </tr>\n",
       "    <tr>\n",
       "        <td>1</td>\n",
       "        <td>Aristote</td>\n",
       "        <td>None</td>\n",
       "    </tr>\n",
       "    <tr>\n",
       "        <td>2</td>\n",
       "        <td>Artaud</td>\n",
       "        <td>Antonin</td>\n",
       "    </tr>\n",
       "    <tr>\n",
       "        <td>3</td>\n",
       "        <td>Aron</td>\n",
       "        <td>Raymond</td>\n",
       "    </tr>\n",
       "    <tr>\n",
       "        <td>4</td>\n",
       "        <td>Apollinaire</td>\n",
       "        <td>Guillaume</td>\n",
       "    </tr>\n",
       "    <tr>\n",
       "        <td>5</td>\n",
       "        <td>Audiberti</td>\n",
       "        <td>Jacques</td>\n",
       "    </tr>\n",
       "    <tr>\n",
       "        <td>6</td>\n",
       "        <td>Arrabal</td>\n",
       "        <td>Fernando</td>\n",
       "    </tr>\n",
       "    <tr>\n",
       "        <td>7</td>\n",
       "        <td>Anouilh</td>\n",
       "        <td>Jean</td>\n",
       "    </tr>\n",
       "    <tr>\n",
       "        <td>8</td>\n",
       "        <td>Aragon</td>\n",
       "        <td>Louis</td>\n",
       "    </tr>\n",
       "    <tr>\n",
       "        <td>9</td>\n",
       "        <td>Ajar</td>\n",
       "        <td>Emile</td>\n",
       "    </tr>\n",
       "    <tr>\n",
       "        <td>10</td>\n",
       "        <td>Andersen</td>\n",
       "        <td>Yann</td>\n",
       "    </tr>\n",
       "    <tr>\n",
       "        <td>12</td>\n",
       "        <td>Bataille</td>\n",
       "        <td>Georges</td>\n",
       "    </tr>\n",
       "    <tr>\n",
       "        <td>14</td>\n",
       "        <td>Bory</td>\n",
       "        <td>Jean Louis</td>\n",
       "    </tr>\n",
       "    <tr>\n",
       "        <td>15</td>\n",
       "        <td>Baudelaire</td>\n",
       "        <td>Charles</td>\n",
       "    </tr>\n",
       "    <tr>\n",
       "        <td>17</td>\n",
       "        <td>Camus</td>\n",
       "        <td>Albert</td>\n",
       "    </tr>\n",
       "    <tr>\n",
       "        <td>19</td>\n",
       "        <td>Ciceron</td>\n",
       "        <td>None</td>\n",
       "    </tr>\n",
       "    <tr>\n",
       "        <td>22</td>\n",
       "        <td>Cocteau</td>\n",
       "        <td>Jean</td>\n",
       "    </tr>\n",
       "    <tr>\n",
       "        <td>24</td>\n",
       "        <td>Courrier</td>\n",
       "        <td>Paul Louis</td>\n",
       "    </tr>\n",
       "    <tr>\n",
       "        <td>26</td>\n",
       "        <td>Diderot</td>\n",
       "        <td>Denis</td>\n",
       "    </tr>\n",
       "    <tr>\n",
       "        <td>28</td>\n",
       "        <td>Dostoievsky</td>\n",
       "        <td>Fiodor</td>\n",
       "    </tr>\n",
       "    <tr>\n",
       "        <td>30</td>\n",
       "        <td>La Fontaine</td>\n",
       "        <td>Jean de</td>\n",
       "    </tr>\n",
       "    <tr>\n",
       "        <td>31</td>\n",
       "        <td>Dante</td>\n",
       "        <td>None</td>\n",
       "    </tr>\n",
       "    <tr>\n",
       "        <td>33</td>\n",
       "        <td>Flaubert</td>\n",
       "        <td>Gustave</td>\n",
       "    </tr>\n",
       "    <tr>\n",
       "        <td>38</td>\n",
       "        <td>Montaigne</td>\n",
       "        <td>Michel de</td>\n",
       "    </tr>\n",
       "    <tr>\n",
       "        <td>40</td>\n",
       "        <td>Moliere</td>\n",
       "        <td>None</td>\n",
       "    </tr>\n",
       "    <tr>\n",
       "        <td>41</td>\n",
       "        <td>Gauthier</td>\n",
       "        <td>Theophile</td>\n",
       "    </tr>\n",
       "    <tr>\n",
       "        <td>48</td>\n",
       "        <td>Hardy</td>\n",
       "        <td>Thomas</td>\n",
       "    </tr>\n",
       "    <tr>\n",
       "        <td>49</td>\n",
       "        <td>Kafka</td>\n",
       "        <td>Franz</td>\n",
       "    </tr>\n",
       "    <tr>\n",
       "        <td>52</td>\n",
       "        <td>Carroll</td>\n",
       "        <td>Lewis</td>\n",
       "    </tr>\n",
       "    <tr>\n",
       "        <td>58</td>\n",
       "        <td>Marivaux</td>\n",
       "        <td>Pierre Carlet de Chamblain de</td>\n",
       "    </tr>\n",
       "    <tr>\n",
       "        <td>60</td>\n",
       "        <td>Ovide</td>\n",
       "        <td>None</td>\n",
       "    </tr>\n",
       "    <tr>\n",
       "        <td>61</td>\n",
       "        <td>Mallarme</td>\n",
       "        <td>Stephane</td>\n",
       "    </tr>\n",
       "    <tr>\n",
       "        <td>62</td>\n",
       "        <td>Proust</td>\n",
       "        <td>Marcel</td>\n",
       "    </tr>\n",
       "    <tr>\n",
       "        <td>75</td>\n",
       "        <td>Ronsard</td>\n",
       "        <td>Pierre</td>\n",
       "    </tr>\n",
       "    <tr>\n",
       "        <td>80</td>\n",
       "        <td>Sand</td>\n",
       "        <td>Georges</td>\n",
       "    </tr>\n",
       "    <tr>\n",
       "        <td>82</td>\n",
       "        <td>Roussel</td>\n",
       "        <td>Rene</td>\n",
       "    </tr>\n",
       "    <tr>\n",
       "        <td>92</td>\n",
       "        <td>Verne</td>\n",
       "        <td>Jules</td>\n",
       "    </tr>\n",
       "    <tr>\n",
       "        <td>94</td>\n",
       "        <td>Zola</td>\n",
       "        <td>Emile</td>\n",
       "    </tr>\n",
       "    <tr>\n",
       "        <td>96</td>\n",
       "        <td>Wilde</td>\n",
       "        <td>Oscar</td>\n",
       "    </tr>\n",
       "    <tr>\n",
       "        <td>97</td>\n",
       "        <td>Vigny</td>\n",
       "        <td>Alfred de</td>\n",
       "    </tr>\n",
       "    <tr>\n",
       "        <td>100</td>\n",
       "        <td>Woolf</td>\n",
       "        <td>Virginia</td>\n",
       "    </tr>\n",
       "</table>"
      ],
      "text/plain": [
       "[(1, 'Aristote', None),\n",
       " (2, 'Artaud', 'Antonin'),\n",
       " (3, 'Aron', 'Raymond'),\n",
       " (4, 'Apollinaire', 'Guillaume'),\n",
       " (5, 'Audiberti', 'Jacques'),\n",
       " (6, 'Arrabal', 'Fernando'),\n",
       " (7, 'Anouilh', 'Jean'),\n",
       " (8, 'Aragon', 'Louis'),\n",
       " (9, 'Ajar', 'Emile'),\n",
       " (10, 'Andersen', 'Yann'),\n",
       " (12, 'Bataille', 'Georges'),\n",
       " (14, 'Bory', 'Jean Louis'),\n",
       " (15, 'Baudelaire', 'Charles'),\n",
       " (17, 'Camus', 'Albert'),\n",
       " (19, 'Ciceron', None),\n",
       " (22, 'Cocteau', 'Jean'),\n",
       " (24, 'Courrier', 'Paul Louis'),\n",
       " (26, 'Diderot', 'Denis'),\n",
       " (28, 'Dostoievsky', 'Fiodor'),\n",
       " (30, 'La Fontaine', 'Jean de'),\n",
       " (31, 'Dante', None),\n",
       " (33, 'Flaubert', 'Gustave'),\n",
       " (38, 'Montaigne', 'Michel de'),\n",
       " (40, 'Moliere', None),\n",
       " (41, 'Gauthier', 'Theophile'),\n",
       " (48, 'Hardy', 'Thomas'),\n",
       " (49, 'Kafka', 'Franz'),\n",
       " (52, 'Carroll', 'Lewis'),\n",
       " (58, 'Marivaux', 'Pierre Carlet de Chamblain de'),\n",
       " (60, 'Ovide', None),\n",
       " (61, 'Mallarme', 'Stephane'),\n",
       " (62, 'Proust', 'Marcel'),\n",
       " (75, 'Ronsard', 'Pierre'),\n",
       " (80, 'Sand', 'Georges'),\n",
       " (82, 'Roussel', 'Rene'),\n",
       " (92, 'Verne', 'Jules'),\n",
       " (94, 'Zola', 'Emile'),\n",
       " (96, 'Wilde', 'Oscar'),\n",
       " (97, 'Vigny', 'Alfred de'),\n",
       " (100, 'Woolf', 'Virginia')]"
      ]
     },
     "execution_count": 164,
     "metadata": {},
     "output_type": "execute_result"
    }
   ],
   "source": [
    "%%sql\n",
    "SELECT DISTINCT customer.NB, customer.NOM, customer.PRENOM\n",
    "FROM sales inner JOIN customer ON customer.NB = sales.NB\n",
    "       inner JOIN wine ON wine.NV = sales.NV\n",
    "WHERE wine.MILL!=1980\n",
    "ORDER BY customer.NB ASC;"
   ]
  },
  {
   "cell_type": "markdown",
   "metadata": {
    "colab_type": "text",
    "id": "uiXBCHgEHpep"
   },
   "source": [
    "#### Exercise 2.9\n",
    "\n",
    "What clients (buveurs) have bought ONLY wines from 1980?"
   ]
  },
  {
   "cell_type": "code",
   "execution_count": 185,
   "metadata": {},
   "outputs": [
    {
     "name": "stdout",
     "output_type": "stream",
     "text": [
      " * sqlite:///wine.db\n",
      "Done.\n"
     ]
    },
    {
     "data": {
      "text/html": [
       "<table>\n",
       "    <tr>\n",
       "        <th>NB</th>\n",
       "        <th>NOM</th>\n",
       "        <th>PRENOM</th>\n",
       "        <th>MILL</th>\n",
       "    </tr>\n",
       "    <tr>\n",
       "        <td>2</td>\n",
       "        <td>Artaud</td>\n",
       "        <td>Antonin</td>\n",
       "        <td>1980</td>\n",
       "    </tr>\n",
       "    <tr>\n",
       "        <td>44</td>\n",
       "        <td>Gide</td>\n",
       "        <td>Andre</td>\n",
       "        <td>1980</td>\n",
       "    </tr>\n",
       "    <tr>\n",
       "        <td>45</td>\n",
       "        <td>Giono</td>\n",
       "        <td>Jean</td>\n",
       "        <td>1980</td>\n",
       "    </tr>\n",
       "    <tr>\n",
       "        <td>8</td>\n",
       "        <td>Aragon</td>\n",
       "        <td>Louis</td>\n",
       "        <td>1980</td>\n",
       "    </tr>\n",
       "    <tr>\n",
       "        <td>50</td>\n",
       "        <td>Lautreamont</td>\n",
       "        <td>None</td>\n",
       "        <td>1980</td>\n",
       "    </tr>\n",
       "    <tr>\n",
       "        <td>61</td>\n",
       "        <td>Mallarme</td>\n",
       "        <td>Stephane</td>\n",
       "        <td>1980</td>\n",
       "    </tr>\n",
       "</table>"
      ],
      "text/plain": [
       "[(2, 'Artaud', 'Antonin', 1980),\n",
       " (44, 'Gide', 'Andre', 1980),\n",
       " (45, 'Giono', 'Jean', 1980),\n",
       " (8, 'Aragon', 'Louis', 1980),\n",
       " (50, 'Lautreamont', None, 1980),\n",
       " (61, 'Mallarme', 'Stephane', 1980)]"
      ]
     },
     "execution_count": 185,
     "metadata": {},
     "output_type": "execute_result"
    }
   ],
   "source": [
    "%%sql\n",
    "SELECT DISTINCT customer.NB, customer.NOM, customer.PRENOM, wine.MILL\n",
    "FROM sales INNER JOIN Customer ON customer.NB = sales.NB \n",
    "INNER JOIN wine on wine.NV = sales.NV\n",
    "WHERE mill=1980;"
   ]
  },
  {
   "cell_type": "markdown",
   "metadata": {
    "colab_type": "text",
    "id": "dgPG0BWaHper"
   },
   "source": [
    "#### Exercise 2.10\n",
    "\n",
    "List all wines from 1980"
   ]
  },
  {
   "cell_type": "code",
   "execution_count": 41,
   "metadata": {},
   "outputs": [
    {
     "name": "stdout",
     "output_type": "stream",
     "text": [
      " * sqlite:///wine.db\n",
      "Done.\n"
     ]
    },
    {
     "data": {
      "text/html": [
       "<table>\n",
       "    <tr>\n",
       "        <th>NV</th>\n",
       "        <th>CRU</th>\n",
       "        <th>MILL</th>\n",
       "        <th>DEGRE</th>\n",
       "    </tr>\n",
       "    <tr>\n",
       "        <td>1</td>\n",
       "        <td>Mercurey</td>\n",
       "        <td>1980</td>\n",
       "        <td>11.5</td>\n",
       "    </tr>\n",
       "    <tr>\n",
       "        <td>4</td>\n",
       "        <td>Mercurey</td>\n",
       "        <td>1980</td>\n",
       "        <td>10.9</td>\n",
       "    </tr>\n",
       "    <tr>\n",
       "        <td>16</td>\n",
       "        <td>Meursault</td>\n",
       "        <td>1980</td>\n",
       "        <td>12.1</td>\n",
       "    </tr>\n",
       "    <tr>\n",
       "        <td>20</td>\n",
       "        <td>Cote de Brouilly</td>\n",
       "        <td>1980</td>\n",
       "        <td>12.1</td>\n",
       "    </tr>\n",
       "    <tr>\n",
       "        <td>26</td>\n",
       "        <td>Chateau Corton Grancey</td>\n",
       "        <td>1980</td>\n",
       "        <td>None</td>\n",
       "    </tr>\n",
       "    <tr>\n",
       "        <td>28</td>\n",
       "        <td>Volnay</td>\n",
       "        <td>1980</td>\n",
       "        <td>11</td>\n",
       "    </tr>\n",
       "    <tr>\n",
       "        <td>43</td>\n",
       "        <td>Fleurie</td>\n",
       "        <td>1980</td>\n",
       "        <td>11.4</td>\n",
       "    </tr>\n",
       "    <tr>\n",
       "        <td>74</td>\n",
       "        <td>Arbois</td>\n",
       "        <td>1980</td>\n",
       "        <td>12</td>\n",
       "    </tr>\n",
       "    <tr>\n",
       "        <td>78</td>\n",
       "        <td>Etoile</td>\n",
       "        <td>1980</td>\n",
       "        <td>12</td>\n",
       "    </tr>\n",
       "    <tr>\n",
       "        <td>79</td>\n",
       "        <td>Seyssel</td>\n",
       "        <td>1980</td>\n",
       "        <td>11</td>\n",
       "    </tr>\n",
       "    <tr>\n",
       "        <td>80</td>\n",
       "        <td>Seyssel</td>\n",
       "        <td>1980</td>\n",
       "        <td>11</td>\n",
       "    </tr>\n",
       "    <tr>\n",
       "        <td>81</td>\n",
       "        <td>Cornas</td>\n",
       "        <td>1980</td>\n",
       "        <td>11.1</td>\n",
       "    </tr>\n",
       "    <tr>\n",
       "        <td>82</td>\n",
       "        <td>Cornas</td>\n",
       "        <td>1980</td>\n",
       "        <td>11</td>\n",
       "    </tr>\n",
       "    <tr>\n",
       "        <td>83</td>\n",
       "        <td>Saint Amour</td>\n",
       "        <td>1980</td>\n",
       "        <td>10</td>\n",
       "    </tr>\n",
       "    <tr>\n",
       "        <td>84</td>\n",
       "        <td>Rasteau</td>\n",
       "        <td>1980</td>\n",
       "        <td>10</td>\n",
       "    </tr>\n",
       "    <tr>\n",
       "        <td>85</td>\n",
       "        <td>Tavel</td>\n",
       "        <td>1980</td>\n",
       "        <td>11</td>\n",
       "    </tr>\n",
       "    <tr>\n",
       "        <td>86</td>\n",
       "        <td>Tavel</td>\n",
       "        <td>1980</td>\n",
       "        <td>11</td>\n",
       "    </tr>\n",
       "    <tr>\n",
       "        <td>87</td>\n",
       "        <td>Cotes de Provence</td>\n",
       "        <td>1980</td>\n",
       "        <td>None</td>\n",
       "    </tr>\n",
       "</table>"
      ],
      "text/plain": [
       "[(1, 'Mercurey', 1980, 11.5),\n",
       " (4, 'Mercurey', 1980, 10.9),\n",
       " (16, 'Meursault', 1980, 12.1),\n",
       " (20, 'Cote de Brouilly', 1980, 12.1),\n",
       " (26, 'Chateau Corton Grancey', 1980, None),\n",
       " (28, 'Volnay', 1980, 11),\n",
       " (43, 'Fleurie', 1980, 11.4),\n",
       " (74, 'Arbois', 1980, 12),\n",
       " (78, 'Etoile', 1980, 12),\n",
       " (79, 'Seyssel', 1980, 11),\n",
       " (80, 'Seyssel', 1980, 11),\n",
       " (81, 'Cornas', 1980, 11.1),\n",
       " (82, 'Cornas', 1980, 11),\n",
       " (83, 'Saint Amour', 1980, 10),\n",
       " (84, 'Rasteau', 1980, 10),\n",
       " (85, 'Tavel', 1980, 11),\n",
       " (86, 'Tavel', 1980, 11),\n",
       " (87, 'Cotes de Provence', 1980, None)]"
      ]
     },
     "execution_count": 41,
     "metadata": {},
     "output_type": "execute_result"
    }
   ],
   "source": [
    "%%sql\n",
    "SELECT NV, CRU, MILL, DEGRE\n",
    "FROM wine\n",
    "WHERE MILL=1980"
   ]
  },
  {
   "cell_type": "markdown",
   "metadata": {
    "colab_type": "text",
    "id": "9pjJha6iHpet"
   },
   "source": [
    "#### Exercise 2.11\n",
    "\n",
    "What are the wines from 1980 bought by NB=2?"
   ]
  },
  {
   "cell_type": "code",
   "execution_count": 165,
   "metadata": {},
   "outputs": [
    {
     "name": "stdout",
     "output_type": "stream",
     "text": [
      " * sqlite:///wine.db\n",
      "Done.\n"
     ]
    },
    {
     "data": {
      "text/html": [
       "<table>\n",
       "    <tr>\n",
       "        <th>NV</th>\n",
       "        <th>CRU</th>\n",
       "        <th>DEGRE</th>\n",
       "        <th>MILL</th>\n",
       "    </tr>\n",
       "    <tr>\n",
       "        <td>1</td>\n",
       "        <td>Mercurey</td>\n",
       "        <td>11.5</td>\n",
       "        <td>1980</td>\n",
       "    </tr>\n",
       "</table>"
      ],
      "text/plain": [
       "[(1, 'Mercurey', 11.5, 1980)]"
      ]
     },
     "execution_count": 165,
     "metadata": {},
     "output_type": "execute_result"
    }
   ],
   "source": [
    "%%sql\n",
    "SELECT sales.NV, wine.CRU, wine.DEGRE, wine.MILL\n",
    "FROM sales JOIN customer ON customer.NB = sales.NB\n",
    "            JOIN wine ON sales.NV = wine.NV\n",
    "WHERE customer.NB = 2 and wine.mill=1980;"
   ]
  },
  {
   "cell_type": "markdown",
   "metadata": {
    "colab_type": "text",
    "id": "mLtbhVehHpex"
   },
   "source": [
    "#### Exercise 2.12\n",
    "\n",
    "What clients (buveurs) have bought ALL the wines from 1980?"
   ]
  },
  {
   "cell_type": "code",
   "execution_count": 182,
   "metadata": {
    "colab": {},
    "colab_type": "code",
    "id": "9P7ncunFHpez"
   },
   "outputs": [
    {
     "name": "stdout",
     "output_type": "stream",
     "text": [
      " * sqlite:///wine.db\n",
      "Done.\n"
     ]
    },
    {
     "data": {
      "text/html": [
       "<table>\n",
       "    <tr>\n",
       "        <th>NB</th>\n",
       "        <th>NOM</th>\n",
       "        <th>PRENOM</th>\n",
       "        <th>count(wine.NV)</th>\n",
       "    </tr>\n",
       "    <tr>\n",
       "        <td>44</td>\n",
       "        <td>Gide</td>\n",
       "        <td>Andre</td>\n",
       "        <td>18</td>\n",
       "    </tr>\n",
       "</table>"
      ],
      "text/plain": [
       "[(44, 'Gide', 'Andre', 18)]"
      ]
     },
     "execution_count": 182,
     "metadata": {},
     "output_type": "execute_result"
    }
   ],
   "source": [
    "%%sql\n",
    "SELECT customer.NB, customer.NOM, customer.PRENOM, count(wine.NV)\n",
    "FROM sales JOIN customer ON customer.NB = sales.NB JOIN wine ON sales.NV = wine.NV\n",
    "WHERE wine.mill = 1980\n",
    "GROUP BY customer.NB\n",
    "HAVING count(wine.NV) = (select count(NV) FROM wine WHERE mill=1980);"
   ]
  }
 ],
 "metadata": {
  "anaconda-cloud": {},
  "colab": {
   "collapsed_sections": [],
   "name": "Copie de DB-TP2.ipynb",
   "provenance": [
    {
     "file_id": "1LIgASk5qXIZiXkEGkHjTWdlsWQ_TpUvl",
     "timestamp": 1571138157883
    }
   ]
  },
  "kernelspec": {
   "display_name": "Python 3",
   "language": "python",
   "name": "python3"
  },
  "language_info": {
   "codemirror_mode": {
    "name": "ipython",
    "version": 3
   },
   "file_extension": ".py",
   "mimetype": "text/x-python",
   "name": "python",
   "nbconvert_exporter": "python",
   "pygments_lexer": "ipython3",
   "version": "3.6.9"
  }
 },
 "nbformat": 4,
 "nbformat_minor": 1
}
